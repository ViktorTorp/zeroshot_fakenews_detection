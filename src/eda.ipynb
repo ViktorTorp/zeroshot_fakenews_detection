{
 "cells": [
  {
   "cell_type": "code",
   "execution_count": 1,
   "metadata": {},
   "outputs": [],
   "source": [
    "import pandas as pd"
   ]
  },
  {
   "cell_type": "code",
   "execution_count": 5,
   "metadata": {},
   "outputs": [],
   "source": [
    "import pandas as pd\n",
    "import numpy as np\n",
    "import matplotlib.pyplot as plt\n",
    "import seaborn as sns\n",
    "import os\n",
    "# import f1_score\n",
    "from sklearn.metrics import f1_score\n",
    "from sklearn.metrics import confusion_matrix\n",
    "from sklearn.metrics import classification_report\n",
    "from zero_shot_models.cgpt import read_data"
   ]
  },
  {
   "cell_type": "code",
   "execution_count": 8,
   "metadata": {},
   "outputs": [
    {
     "data": {
      "text/plain": [
       "array(['false', 'half-true', 'mostly-true', 'true', 'barely-true',\n",
       "       'pants-fire'], dtype=object)"
      ]
     },
     "execution_count": 8,
     "metadata": {},
     "output_type": "execute_result"
    }
   ],
   "source": [
    "# Find all distinct labels in the dataset \"../data/liar_dataset/train.tsv\"\n",
    "df = read_data('../data/liar_dataset/train.tsv')\n",
    "df.label.unique()"
   ]
  },
  {
   "cell_type": "code",
   "execution_count": 9,
   "metadata": {},
   "outputs": [
    {
     "name": "stdout",
     "output_type": "stream",
     "text": [
      "<class 'pandas.core.frame.DataFrame'>\n",
      "RangeIndex: 10240 entries, 0 to 10239\n",
      "Data columns (total 14 columns):\n",
      " #   Column               Non-Null Count  Dtype  \n",
      "---  ------               --------------  -----  \n",
      " 0   id                   10240 non-null  object \n",
      " 1   label                10240 non-null  object \n",
      " 2   statement            10240 non-null  object \n",
      " 3   subject              10238 non-null  object \n",
      " 4   speaker              10238 non-null  object \n",
      " 5   speaker_job          7343 non-null   object \n",
      " 6   state_info           8032 non-null   object \n",
      " 7   party                10238 non-null  object \n",
      " 8   barely_true_count    10238 non-null  float64\n",
      " 9   false_count          10238 non-null  float64\n",
      " 10  half_true_count      10238 non-null  float64\n",
      " 11  mostly_true_count    10238 non-null  float64\n",
      " 12  pants_on_fire_count  10238 non-null  float64\n",
      " 13  context              10138 non-null  object \n",
      "dtypes: float64(5), object(9)\n",
      "memory usage: 1.1+ MB\n"
     ]
    }
   ],
   "source": [
    "df.info()"
   ]
  },
  {
   "cell_type": "code",
   "execution_count": null,
   "metadata": {},
   "outputs": [],
   "source": []
  }
 ],
 "metadata": {
  "kernelspec": {
   "display_name": "base",
   "language": "python",
   "name": "python3"
  },
  "language_info": {
   "codemirror_mode": {
    "name": "ipython",
    "version": 3
   },
   "file_extension": ".py",
   "mimetype": "text/x-python",
   "name": "python",
   "nbconvert_exporter": "python",
   "pygments_lexer": "ipython3",
   "version": "3.9.7"
  },
  "orig_nbformat": 4,
  "vscode": {
   "interpreter": {
    "hash": "3582eee5de9267f828bda4ee5a193849b84c162ef47b9da069e91d3e3fec8841"
   }
  }
 },
 "nbformat": 4,
 "nbformat_minor": 2
}
