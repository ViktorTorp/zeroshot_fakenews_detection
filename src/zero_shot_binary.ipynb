{
 "cells": [
  {
   "cell_type": "code",
   "execution_count": 34,
   "metadata": {},
   "outputs": [
    {
     "name": "stdout",
     "output_type": "stream",
     "text": [
      "The autoreload extension is already loaded. To reload it, use:\n",
      "  %reload_ext autoreload\n"
     ]
    }
   ],
   "source": [
    "# automatic reloading of modules\n",
    "%load_ext autoreload\n",
    "%autoreload 2"
   ]
  },
  {
   "cell_type": "code",
   "execution_count": 35,
   "metadata": {},
   "outputs": [],
   "source": [
    "import os\n",
    "import openai\n",
    "import pandas as pd"
   ]
  },
  {
   "cell_type": "code",
   "execution_count": 36,
   "metadata": {},
   "outputs": [],
   "source": [
    "# print the entire output of a cell\n",
    "from IPython.core.interactiveshell import InteractiveShell\n",
    "InteractiveShell.ast_node_interactivity = \"all\"\n",
    "\n",
    "# also print the entire content of a dfs column\n",
    "pd.set_option('display.max_colwidth', None)"
   ]
  },
  {
   "cell_type": "code",
   "execution_count": 44,
   "metadata": {},
   "outputs": [],
   "source": [
    "from zero_shot_models.cgpt import *"
   ]
  },
  {
   "cell_type": "code",
   "execution_count": 38,
   "metadata": {},
   "outputs": [],
   "source": [
    "path_to_data = '../data/liar_dataset/test.tsv'\n",
    "test = read_data(path_to_data)\n",
    "\n",
    "path_to_data = '../data/liar_dataset/valid.tsv'\n",
    "valid = read_data(path_to_data)\n"
   ]
  },
  {
   "cell_type": "code",
   "execution_count": 39,
   "metadata": {},
   "outputs": [],
   "source": [
    "labels_map = {'pants-fire': \"false\", 'false':\"false\", 'barely-true':\"false\", 'half-true':\"false\", 'mostly-true':\"true\", 'true':\"true\"}"
   ]
  },
  {
   "cell_type": "code",
   "execution_count": 40,
   "metadata": {},
   "outputs": [],
   "source": [
    "test[\"label\"] = test[\"label\"].map(labels_map)\n",
    "valid[\"label\"] = valid[\"label\"].map(labels_map)"
   ]
  },
  {
   "cell_type": "code",
   "execution_count": 41,
   "metadata": {},
   "outputs": [
    {
     "data": {
      "text/plain": [
       "false    864\n",
       "true     420\n",
       "Name: label, dtype: int64"
      ]
     },
     "execution_count": 41,
     "metadata": {},
     "output_type": "execute_result"
    }
   ],
   "source": [
    "valid.label.value_counts()"
   ]
  },
  {
   "cell_type": "code",
   "execution_count": 42,
   "metadata": {},
   "outputs": [
    {
     "data": {
      "text/plain": [
       "false    818\n",
       "true     449\n",
       "Name: label, dtype: int64"
      ]
     },
     "execution_count": 42,
     "metadata": {},
     "output_type": "execute_result"
    }
   ],
   "source": [
    "test.label.value_counts()"
   ]
  },
  {
   "cell_type": "code",
   "execution_count": 46,
   "metadata": {},
   "outputs": [
    {
     "name": "stdout",
     "output_type": "stream",
     "text": [
      "Classify the accuracy of the following statement: 'Building a wall on the U.S.-Mexico border will take literally years.'\n",
      "You can only answer with one of the following categories to describe the accuracy of the claim: false, true. You response should be of the following structure:[label]: [explanation]\n"
     ]
    }
   ],
   "source": [
    "print(get_prompt(test.head(1).statement.values[0], binary=True))"
   ]
  },
  {
   "cell_type": "code",
   "execution_count": 47,
   "metadata": {},
   "outputs": [
    {
     "data": {
      "text/plain": [
       "2.32824"
      ]
     },
     "execution_count": 47,
     "metadata": {},
     "output_type": "execute_result"
    }
   ],
   "source": [
    "calc_price(test, get_prompt(\"\"),token_price=0.02/1000 )"
   ]
  },
  {
   "cell_type": "code",
   "execution_count": 48,
   "metadata": {},
   "outputs": [],
   "source": [
    "openai.api_key = \"SOME_KEY\""
   ]
  },
  {
   "cell_type": "code",
   "execution_count": 50,
   "metadata": {},
   "outputs": [],
   "source": [
    "res = get_response(get_prompt(valid.head(1).statement.values[0], binary=True))"
   ]
  },
  {
   "cell_type": "code",
   "execution_count": 51,
   "metadata": {},
   "outputs": [
    {
     "data": {
      "text/plain": [
       "<OpenAIObject text_completion id=cmpl-6pwKWtfS3JSIV3A1dcjXx0qOKvj9X at 0x7fa6981375e0> JSON: {\n",
       "  \"choices\": [\n",
       "    {\n",
       "      \"finish_reason\": \"stop\",\n",
       "      \"index\": 0,\n",
       "      \"logprobs\": null,\n",
       "      \"text\": \"\\nTrue: The number of Americans employed has decreased since the 1970s.\"\n",
       "    }\n",
       "  ],\n",
       "  \"created\": 1677836968,\n",
       "  \"id\": \"cmpl-6pwKWtfS3JSIV3A1dcjXx0qOKvj9X\",\n",
       "  \"model\": \"text-davinci-003\",\n",
       "  \"object\": \"text_completion\",\n",
       "  \"usage\": {\n",
       "    \"completion_tokens\": 15,\n",
       "    \"prompt_tokens\": 61,\n",
       "    \"total_tokens\": 76\n",
       "  }\n",
       "}"
      ]
     },
     "execution_count": 51,
     "metadata": {},
     "output_type": "execute_result"
    }
   ],
   "source": [
    "res"
   ]
  },
  {
   "cell_type": "code",
   "execution_count": 53,
   "metadata": {},
   "outputs": [
    {
     "data": {
      "text/plain": [
       "('true', 'The number of Americans employed has decreased since the 1970s.')"
      ]
     },
     "execution_count": 53,
     "metadata": {},
     "output_type": "execute_result"
    }
   ],
   "source": [
    "get_label_and_explanation(res)"
   ]
  },
  {
   "cell_type": "code",
   "execution_count": 54,
   "metadata": {},
   "outputs": [],
   "source": [
    "valid_results = get_label_and_explanation_from_df(valid, binary=True)\n",
    "valid_results.to_csv('valid_cgpt_binary.csv')"
   ]
  },
  {
   "cell_type": "code",
   "execution_count": 55,
   "metadata": {},
   "outputs": [],
   "source": [
    "test_results = get_label_and_explanation_from_df(test, binary=True)\n",
    "test_results.to_csv('test_cgpt_binary.csv')"
   ]
  },
  {
   "cell_type": "code",
   "execution_count": 62,
   "metadata": {},
   "outputs": [],
   "source": [
    "labels = ['false', 'true']"
   ]
  },
  {
   "cell_type": "code",
   "execution_count": 64,
   "metadata": {},
   "outputs": [
    {
     "name": "stdout",
     "output_type": "stream",
     "text": [
      "              precision    recall  f1-score   support\n",
      "\n",
      "     abstain       0.00      0.00      0.00         0\n",
      "       false       0.74      0.56      0.63       864\n",
      "        true       0.39      0.58      0.47       420\n",
      "\n",
      "    accuracy                           0.56      1284\n",
      "   macro avg       0.38      0.38      0.37      1284\n",
      "weighted avg       0.62      0.56      0.58      1284\n",
      "\n"
     ]
    },
    {
     "data": {
      "text/plain": [
       "<AxesSubplot:>"
      ]
     },
     "execution_count": 64,
     "metadata": {},
     "output_type": "execute_result"
    },
    {
     "data": {
      "text/plain": [
       "Text(0.5, 1.0, 'Confusion Matrix')"
      ]
     },
     "execution_count": 64,
     "metadata": {},
     "output_type": "execute_result"
    },
    {
     "data": {
      "text/plain": [
       "Text(0.5, 15.0, 'Predicted')"
      ]
     },
     "execution_count": 64,
     "metadata": {},
     "output_type": "execute_result"
    },
    {
     "data": {
      "text/plain": [
       "Text(33.0, 0.5, 'True')"
      ]
     },
     "execution_count": 64,
     "metadata": {},
     "output_type": "execute_result"
    },
    {
     "data": {
      "image/png": "[encoded data removed]",
      "text/plain": [
       "<Figure size 432x288 with 2 Axes>"
      ]
     },
     "metadata": {
      "needs_background": "light"
     },
     "output_type": "display_data"
    }
   ],
   "source": [
    "# print classification report and confusion matrix as a heatmap for valid set \n",
    "print(classification_report(valid_results.label, valid_results.prediction, zero_division=0))\n",
    "cm = confusion_matrix(valid_results.label, valid_results.prediction)\n",
    "# make a heatmap with labels and values and a blue-ish color scheme\n",
    "# Include a row for the supports\n",
    "sns.heatmap(cm, annot=True, fmt='d', xticklabels=labels, yticklabels=labels, cmap='Blues')\n",
    "plt.title('Confusion Matrix')\n",
    "plt.xlabel('Predicted')\n",
    "plt.ylabel('True')\n",
    "plt.show()"
   ]
  },
  {
   "cell_type": "code",
   "execution_count": 65,
   "metadata": {},
   "outputs": [
    {
     "name": "stdout",
     "output_type": "stream",
     "text": [
      "              precision    recall  f1-score   support\n",
      "\n",
      "     abstain       0.00      0.00      0.00         0\n",
      "       false       0.76      0.55      0.64       818\n",
      "   half-true       0.00      0.00      0.00         0\n",
      "        true       0.46      0.68      0.55       449\n",
      "\n",
      "    accuracy                           0.60      1267\n",
      "   macro avg       0.31      0.31      0.30      1267\n",
      "weighted avg       0.66      0.60      0.61      1267\n",
      "\n"
     ]
    },
    {
     "data": {
      "text/plain": [
       "<AxesSubplot:>"
      ]
     },
     "execution_count": 65,
     "metadata": {},
     "output_type": "execute_result"
    },
    {
     "data": {
      "text/plain": [
       "Text(0.5, 1.0, 'Confusion Matrix')"
      ]
     },
     "execution_count": 65,
     "metadata": {},
     "output_type": "execute_result"
    },
    {
     "data": {
      "text/plain": [
       "Text(0.5, 15.0, 'Predicted')"
      ]
     },
     "execution_count": 65,
     "metadata": {},
     "output_type": "execute_result"
    },
    {
     "data": {
      "text/plain": [
       "Text(33.0, 0.5, 'True')"
      ]
     },
     "execution_count": 65,
     "metadata": {},
     "output_type": "execute_result"
    },
    {
     "data": {
      "image/png": "[encoded data removed]",
      "text/plain": [
       "<Figure size 432x288 with 2 Axes>"
      ]
     },
     "metadata": {
      "needs_background": "light"
     },
     "output_type": "display_data"
    }
   ],
   "source": [
    "# print classification report and confusion matrix as a heatmap for valid set \n",
    "print(classification_report(test_results.label, test_results.prediction, zero_division=0))\n",
    "cm = confusion_matrix(test_results.label, test_results.prediction)\n",
    "# make a heatmap with labels and values and a blue-ish color scheme\n",
    "# Include a row for the supports\n",
    "sns.heatmap(cm, annot=True, fmt='d', xticklabels=labels, yticklabels=labels, cmap='Blues')\n",
    "plt.title('Confusion Matrix')\n",
    "plt.xlabel('Predicted')\n",
    "plt.ylabel('True')\n",
    "plt.show()"
   ]
  },
  {
   "attachments": {},
   "cell_type": "markdown",
   "metadata": {},
   "source": [
    "# Results overview"
   ]
  },
  {
   "cell_type": "code",
   "execution_count": 66,
   "metadata": {},
   "outputs": [],
   "source": [
    "# import pandas, np, matplotlib, and from sklearn import classification report, accuracy, f1, confusion matrix\n",
    "import pandas as pd\n",
    "import numpy as np\n",
    "import matplotlib.pyplot as plt\n",
    "import seaborn as sns\n",
    "from sklearn.metrics import classification_report, accuracy_score, f1_score, confusion_matrix\n"
   ]
  },
  {
   "cell_type": "code",
   "execution_count": 67,
   "metadata": {},
   "outputs": [],
   "source": [
    "valid_true = valid_results.label.values\n",
    "valid_pred = valid_results.prediction.values\n",
    "\n",
    "test_true = test_results.label.values\n",
    "test_pred = test_results.prediction.values"
   ]
  },
  {
   "cell_type": "code",
   "execution_count": 68,
   "metadata": {},
   "outputs": [
    {
     "data": {
      "text/plain": [
       "(array(['abstain', 'false', 'true'], dtype=object), array([ 11, 653, 620]))"
      ]
     },
     "execution_count": 68,
     "metadata": {},
     "output_type": "execute_result"
    }
   ],
   "source": [
    "np.unique(valid_pred, return_counts=True)"
   ]
  },
  {
   "cell_type": "code",
   "execution_count": 69,
   "metadata": {},
   "outputs": [
    {
     "data": {
      "text/plain": [
       "(array(['abstain', 'false', 'half-true', 'true'], dtype=object),\n",
       " array([ 15, 589,   1, 662]))"
      ]
     },
     "execution_count": 69,
     "metadata": {},
     "output_type": "execute_result"
    }
   ],
   "source": [
    "np.unique(test_pred, return_counts=True)"
   ]
  },
  {
   "cell_type": "code",
   "execution_count": 70,
   "metadata": {},
   "outputs": [
    {
     "name": "stdout",
     "output_type": "stream",
     "text": [
      "              precision    recall  f1-score   support\n",
      "\n",
      "     abstain       0.00      0.00      0.00         0\n",
      "       false       0.74      0.56      0.63       864\n",
      "        true       0.39      0.58      0.47       420\n",
      "\n",
      "    accuracy                           0.56      1284\n",
      "   macro avg       0.38      0.38      0.37      1284\n",
      "weighted avg       0.62      0.56      0.58      1284\n",
      "\n"
     ]
    },
    {
     "data": {
      "text/plain": [
       "<AxesSubplot:>"
      ]
     },
     "execution_count": 70,
     "metadata": {},
     "output_type": "execute_result"
    },
    {
     "data": {
      "text/plain": [
       "Text(0.5, 1.0, 'Confusion Matrix')"
      ]
     },
     "execution_count": 70,
     "metadata": {},
     "output_type": "execute_result"
    },
    {
     "data": {
      "text/plain": [
       "Text(0.5, 15.0, 'Predicted')"
      ]
     },
     "execution_count": 70,
     "metadata": {},
     "output_type": "execute_result"
    },
    {
     "data": {
      "text/plain": [
       "Text(33.0, 0.5, 'True')"
      ]
     },
     "execution_count": 70,
     "metadata": {},
     "output_type": "execute_result"
    },
    {
     "data": {
      "image/png": "[encoded data removed]",
      "text/plain": [
       "<Figure size 432x288 with 2 Axes>"
      ]
     },
     "metadata": {
      "needs_background": "light"
     },
     "output_type": "display_data"
    }
   ],
   "source": [
    "# print classification report and confusion matrix as a heatmap for valid set \n",
    "print(classification_report(valid_true, valid_pred, zero_division=0))\n",
    "cm = confusion_matrix(valid_true, valid_pred)\n",
    "# make a heatmap with labels and values and a blue-ish color scheme\n",
    "# Include a row for the supports\n",
    "sns.heatmap(cm, annot=True, fmt='d', xticklabels=labels, yticklabels=labels, cmap='Blues')\n",
    "plt.title('Confusion Matrix')\n",
    "plt.xlabel('Predicted')\n",
    "plt.ylabel('True')\n",
    "plt.show()"
   ]
  },
  {
   "cell_type": "code",
   "execution_count": 71,
   "metadata": {},
   "outputs": [
    {
     "name": "stdout",
     "output_type": "stream",
     "text": [
      "              precision    recall  f1-score   support\n",
      "\n",
      "     abstain       0.00      0.00      0.00         0\n",
      "       false       0.76      0.55      0.64       818\n",
      "   half-true       0.00      0.00      0.00         0\n",
      "        true       0.46      0.68      0.55       449\n",
      "\n",
      "    accuracy                           0.60      1267\n",
      "   macro avg       0.31      0.31      0.30      1267\n",
      "weighted avg       0.66      0.60      0.61      1267\n",
      "\n"
     ]
    },
    {
     "data": {
      "text/plain": [
       "<AxesSubplot:>"
      ]
     },
     "execution_count": 71,
     "metadata": {},
     "output_type": "execute_result"
    },
    {
     "data": {
      "text/plain": [
       "Text(0.5, 1.0, 'Confusion Matrix')"
      ]
     },
     "execution_count": 71,
     "metadata": {},
     "output_type": "execute_result"
    },
    {
     "data": {
      "text/plain": [
       "Text(0.5, 15.0, 'Predicted')"
      ]
     },
     "execution_count": 71,
     "metadata": {},
     "output_type": "execute_result"
    },
    {
     "data": {
      "text/plain": [
       "Text(33.0, 0.5, 'True')"
      ]
     },
     "execution_count": 71,
     "metadata": {},
     "output_type": "execute_result"
    },
    {
     "data": {
      "image/png": "[encoded data removed]",
      "text/plain": [
       "<Figure size 432x288 with 2 Axes>"
      ]
     },
     "metadata": {
      "needs_background": "light"
     },
     "output_type": "display_data"
    }
   ],
   "source": [
    "# print classification report and confusion matrix as a heatmap for test set \n",
    "print(classification_report(test_true, test_pred, zero_division=0))\n",
    "cm = confusion_matrix(test_true, test_pred)\n",
    "# make a heatmap with labels and values and a blue-ish color scheme\n",
    "# Include a row for the supports\n",
    "sns.heatmap(cm, annot=True, fmt='d', xticklabels=labels, yticklabels=labels, cmap='Blues')\n",
    "plt.title('Confusion Matrix')\n",
    "plt.xlabel('Predicted')\n",
    "plt.ylabel('True')\n",
    "plt.show()"
   ]
  },
  {
   "cell_type": "code",
   "execution_count": 72,
   "metadata": {},
   "outputs": [],
   "source": [
    "# print all content in pd column\n",
    "pd.set_option('display.max_colwidth', None)"
   ]
  },
  {
   "cell_type": "code",
   "execution_count": 73,
   "metadata": {},
   "outputs": [
    {
     "data": {
      "text/html": [
       "<div>\n",
       "<style scoped>\n",
       "    .dataframe tbody tr th:only-of-type {\n",
       "        vertical-align: middle;\n",
       "    }\n",
       "\n",
       "    .dataframe tbody tr th {\n",
       "        vertical-align: top;\n",
       "    }\n",
       "\n",
       "    .dataframe thead th {\n",
       "        text-align: right;\n",
       "    }\n",
       "</style>\n",
       "<table border=\"1\" class=\"dataframe\">\n",
       "  <thead>\n",
       "    <tr style=\"text-align: right;\">\n",
       "      <th></th>\n",
       "      <th>14</th>\n",
       "      <th>20</th>\n",
       "      <th>32</th>\n",
       "      <th>151</th>\n",
       "      <th>154</th>\n",
       "      <th>295</th>\n",
       "      <th>459</th>\n",
       "      <th>726</th>\n",
       "      <th>840</th>\n",
       "      <th>852</th>\n",
       "      <th>860</th>\n",
       "      <th>948</th>\n",
       "      <th>1094</th>\n",
       "      <th>1169</th>\n",
       "      <th>1258</th>\n",
       "    </tr>\n",
       "  </thead>\n",
       "  <tbody>\n",
       "    <tr>\n",
       "      <th>statement</th>\n",
       "      <td>On residency requirements for public workers</td>\n",
       "      <td>There have not been any public safety issues in cities that allow transgender people to use the bathroom of the gender they identify as.</td>\n",
       "      <td>On which team hes rooting for in the World Series.</td>\n",
       "      <td>Eighty percent of the American people support an approach (to federal budget problems) that includes revenues and includes cuts.</td>\n",
       "      <td>On pay for fired Milwaukee police officers</td>\n",
       "      <td>On whether the government should bail out insurance giant AIG.</td>\n",
       "      <td>On redistricting.</td>\n",
       "      <td>Metro on whether it could use bond money for restoration.</td>\n",
       "      <td>Ohioans want an end to pay-to-play politics.</td>\n",
       "      <td>On subsidies for ethanol production.</td>\n",
       "      <td>Says Bruce Starr broke the law by letting lobbyists wine and dine him in Maui.</td>\n",
       "      <td>On Donald Trumps track record in business</td>\n",
       "      <td>Forty-five percent of doctors say theyll quit if health care reform passes.</td>\n",
       "      <td>On a cap-and-trade plan.</td>\n",
       "      <td>On offshore drilling.</td>\n",
       "    </tr>\n",
       "    <tr>\n",
       "      <th>label</th>\n",
       "      <td>false</td>\n",
       "      <td>true</td>\n",
       "      <td>false</td>\n",
       "      <td>true</td>\n",
       "      <td>false</td>\n",
       "      <td>false</td>\n",
       "      <td>false</td>\n",
       "      <td>false</td>\n",
       "      <td>false</td>\n",
       "      <td>false</td>\n",
       "      <td>false</td>\n",
       "      <td>false</td>\n",
       "      <td>false</td>\n",
       "      <td>false</td>\n",
       "      <td>false</td>\n",
       "    </tr>\n",
       "    <tr>\n",
       "      <th>prediction</th>\n",
       "      <td>abstain</td>\n",
       "      <td>abstain</td>\n",
       "      <td>abstain</td>\n",
       "      <td>abstain</td>\n",
       "      <td>abstain</td>\n",
       "      <td>abstain</td>\n",
       "      <td>abstain</td>\n",
       "      <td>abstain</td>\n",
       "      <td>abstain</td>\n",
       "      <td>abstain</td>\n",
       "      <td>abstain</td>\n",
       "      <td>abstain</td>\n",
       "      <td>abstain</td>\n",
       "      <td>abstain</td>\n",
       "      <td>abstain</td>\n",
       "    </tr>\n",
       "    <tr>\n",
       "      <th>explanation</th>\n",
       "      <td>Without more information, it is not possible to determine the accuracy of this statement.</td>\n",
       "      <td>The accuracy of the statement cannot be determined due to a lack of evidence.</td>\n",
       "      <td>This statement does not make a claim that can be assessed for accuracy.</td>\n",
       "      <td>The accuracy of the statement cannot be determined without further evidence.</td>\n",
       "      <td>The accuracy of the statement cannot be determined without more information.</td>\n",
       "      <td>The statement is an opinion, not a fact, and therefore cannot be classified as either true or false.</td>\n",
       "      <td>It is difficult to classify the accuracy of this statement without more information.</td>\n",
       "      <td>It is not possible to classify the accuracy of this statement without additional context.</td>\n",
       "      <td>The accuracy of this statement cannot be determined without further evidence.</td>\n",
       "      <td>The accuracy of the statement cannot be determined without further context.</td>\n",
       "      <td>There is not enough information provided to determine the accuracy of the statement.</td>\n",
       "      <td>It is not possible to classify the accuracy of this statement without more information.</td>\n",
       "      <td>The statement does not provide any evidence to back up the claim.</td>\n",
       "      <td>The accuracy of this statement cannot be determined without more information.</td>\n",
       "      <td>Without more information, it is impossible to classify the accuracy of the statement.</td>\n",
       "    </tr>\n",
       "  </tbody>\n",
       "</table>\n",
       "</div>"
      ],
      "text/plain": [
       "                                                                                                  14    \\\n",
       "statement                                                 On residency requirements for public workers   \n",
       "label                                                                                            false   \n",
       "prediction                                                                                     abstain   \n",
       "explanation  Without more information, it is not possible to determine the accuracy of this statement.   \n",
       "\n",
       "                                                                                                                                                 20    \\\n",
       "statement    There have not been any public safety issues in cities that allow transgender people to use the bathroom of the gender they identify as.   \n",
       "label                                                                                                                                            true   \n",
       "prediction                                                                                                                                    abstain   \n",
       "explanation                                                             The accuracy of the statement cannot be determined due to a lack of evidence.   \n",
       "\n",
       "                                                                                32    \\\n",
       "statement                         On which team hes rooting for in the World Series.   \n",
       "label                                                                          false   \n",
       "prediction                                                                   abstain   \n",
       "explanation  This statement does not make a claim that can be assessed for accuracy.   \n",
       "\n",
       "                                                                                                                                         151   \\\n",
       "statement    Eighty percent of the American people support an approach (to federal budget problems) that includes revenues and includes cuts.   \n",
       "label                                                                                                                                    true   \n",
       "prediction                                                                                                                            abstain   \n",
       "explanation                                                      The accuracy of the statement cannot be determined without further evidence.   \n",
       "\n",
       "                                                                                     154   \\\n",
       "statement                                      On pay for fired Milwaukee police officers   \n",
       "label                                                                               false   \n",
       "prediction                                                                        abstain   \n",
       "explanation  The accuracy of the statement cannot be determined without more information.   \n",
       "\n",
       "                                                                                                             295   \\\n",
       "statement                                          On whether the government should bail out insurance giant AIG.   \n",
       "label                                                                                                       false   \n",
       "prediction                                                                                                abstain   \n",
       "explanation  The statement is an opinion, not a fact, and therefore cannot be classified as either true or false.   \n",
       "\n",
       "                                                                                             459   \\\n",
       "statement                                                                       On redistricting.   \n",
       "label                                                                                       false   \n",
       "prediction                                                                                abstain   \n",
       "explanation  It is difficult to classify the accuracy of this statement without more information.   \n",
       "\n",
       "                                                                                                  726   \\\n",
       "statement                                    Metro on whether it could use bond money for restoration.   \n",
       "label                                                                                            false   \n",
       "prediction                                                                                     abstain   \n",
       "explanation  It is not possible to classify the accuracy of this statement without additional context.   \n",
       "\n",
       "                                                                                      840   \\\n",
       "statement                                     Ohioans want an end to pay-to-play politics.   \n",
       "label                                                                                false   \n",
       "prediction                                                                         abstain   \n",
       "explanation  The accuracy of this statement cannot be determined without further evidence.   \n",
       "\n",
       "                                                                                    852   \\\n",
       "statement                                           On subsidies for ethanol production.   \n",
       "label                                                                              false   \n",
       "prediction                                                                       abstain   \n",
       "explanation  The accuracy of the statement cannot be determined without further context.   \n",
       "\n",
       "                                                                                             860   \\\n",
       "statement          Says Bruce Starr broke the law by letting lobbyists wine and dine him in Maui.   \n",
       "label                                                                                       false   \n",
       "prediction                                                                                abstain   \n",
       "explanation  There is not enough information provided to determine the accuracy of the statement.   \n",
       "\n",
       "                                                                                                948   \\\n",
       "statement                                                  On Donald Trumps track record in business   \n",
       "label                                                                                          false   \n",
       "prediction                                                                                   abstain   \n",
       "explanation  It is not possible to classify the accuracy of this statement without more information.   \n",
       "\n",
       "                                                                                    1094  \\\n",
       "statement    Forty-five percent of doctors say theyll quit if health care reform passes.   \n",
       "label                                                                              false   \n",
       "prediction                                                                       abstain   \n",
       "explanation            The statement does not provide any evidence to back up the claim.   \n",
       "\n",
       "                                                                                      1169  \\\n",
       "statement                                                         On a cap-and-trade plan.   \n",
       "label                                                                                false   \n",
       "prediction                                                                         abstain   \n",
       "explanation  The accuracy of this statement cannot be determined without more information.   \n",
       "\n",
       "                                                                                              1258  \n",
       "statement                                                                    On offshore drilling.  \n",
       "label                                                                                        false  \n",
       "prediction                                                                                 abstain  \n",
       "explanation  Without more information, it is impossible to classify the accuracy of the statement.  "
      ]
     },
     "execution_count": 73,
     "metadata": {},
     "output_type": "execute_result"
    }
   ],
   "source": [
    "test_results.loc[test_results.prediction == 'abstain',['statement','label','prediction','explanation']].T"
   ]
  },
  {
   "cell_type": "code",
   "execution_count": 74,
   "metadata": {},
   "outputs": [
    {
     "name": "stdout",
     "output_type": "stream",
     "text": [
      "              precision    recall  f1-score   support\n",
      "\n",
      "       false       0.67      1.00      0.80       864\n",
      "        true       0.00      0.00      0.00       420\n",
      "\n",
      "    accuracy                           0.67      1284\n",
      "   macro avg       0.34      0.50      0.40      1284\n",
      "weighted avg       0.45      0.67      0.54      1284\n",
      "\n"
     ]
    },
    {
     "data": {
      "text/plain": [
       "<AxesSubplot:>"
      ]
     },
     "execution_count": 74,
     "metadata": {},
     "output_type": "execute_result"
    },
    {
     "data": {
      "text/plain": [
       "Text(0.5, 1.0, 'Confusion Matrix')"
      ]
     },
     "execution_count": 74,
     "metadata": {},
     "output_type": "execute_result"
    },
    {
     "data": {
      "text/plain": [
       "Text(0.5, 15.0, 'Predicted')"
      ]
     },
     "execution_count": 74,
     "metadata": {},
     "output_type": "execute_result"
    },
    {
     "data": {
      "text/plain": [
       "Text(33.0, 0.5, 'True')"
      ]
     },
     "execution_count": 74,
     "metadata": {},
     "output_type": "execute_result"
    },
    {
     "data": {
      "image/png": "[encoded data removed]",
      "text/plain": [
       "<Figure size 432x288 with 2 Axes>"
      ]
     },
     "metadata": {
      "needs_background": "light"
     },
     "output_type": "display_data"
    }
   ],
   "source": [
    "# Get the most used label in valid set and use it as a baseline. \n",
    "majority_label = np.unique(valid_true, return_counts=True)[0][np.argmax(np.unique(valid_true, return_counts=True)[1])]\n",
    "valid_baseline = [majority_label for i in range(len(valid_true))]\n",
    "\n",
    "# Get the most used label in test set and use it as a baseline.\n",
    "majority_label = np.unique(test_true, return_counts=True)[0][np.argmax(np.unique(test_true, return_counts=True)[1])]\n",
    "test_baseline = [majority_label for i in range(len(test_true))]\n",
    "\n",
    "# print classification report and confusion matrix as a heatmap for valid set\n",
    "print(classification_report(valid_true, valid_baseline, zero_division=0))\n",
    "cm = confusion_matrix(valid_true, valid_baseline)\n",
    "# make a heatmap with labels and values and a blue-ish color scheme\n",
    "# Include a row for the supports\n",
    "sns.heatmap(cm, annot=True, fmt='d', xticklabels=labels, yticklabels=labels, cmap='Blues')\n",
    "plt.title('Confusion Matrix')\n",
    "plt.xlabel('Predicted')\n",
    "plt.ylabel('True')\n",
    "plt.show()\n",
    "\n"
   ]
  },
  {
   "cell_type": "code",
   "execution_count": 75,
   "metadata": {},
   "outputs": [
    {
     "name": "stdout",
     "output_type": "stream",
     "text": [
      "              precision    recall  f1-score   support\n",
      "\n",
      "       false       0.65      1.00      0.78       818\n",
      "        true       0.00      0.00      0.00       449\n",
      "\n",
      "    accuracy                           0.65      1267\n",
      "   macro avg       0.32      0.50      0.39      1267\n",
      "weighted avg       0.42      0.65      0.51      1267\n",
      "\n"
     ]
    },
    {
     "data": {
      "text/plain": [
       "<AxesSubplot:>"
      ]
     },
     "execution_count": 75,
     "metadata": {},
     "output_type": "execute_result"
    },
    {
     "data": {
      "text/plain": [
       "Text(0.5, 1.0, 'Confusion Matrix')"
      ]
     },
     "execution_count": 75,
     "metadata": {},
     "output_type": "execute_result"
    },
    {
     "data": {
      "text/plain": [
       "Text(0.5, 15.0, 'Predicted')"
      ]
     },
     "execution_count": 75,
     "metadata": {},
     "output_type": "execute_result"
    },
    {
     "data": {
      "text/plain": [
       "Text(33.0, 0.5, 'True')"
      ]
     },
     "execution_count": 75,
     "metadata": {},
     "output_type": "execute_result"
    },
    {
     "data": {
      "image/png": "[encoded data removed]",
      "text/plain": [
       "<Figure size 432x288 with 2 Axes>"
      ]
     },
     "metadata": {
      "needs_background": "light"
     },
     "output_type": "display_data"
    }
   ],
   "source": [
    "# print classification report and confusion matrix as a heatmap for test set\n",
    "print(classification_report(test_true, test_baseline, zero_division=0))\n",
    "cm = confusion_matrix(test_true, test_baseline)\n",
    "# make a heatmap with labels and values and a blue-ish color scheme\n",
    "# Include a row for the supports\n",
    "sns.heatmap(cm, annot=True, fmt='d', xticklabels=labels, yticklabels=labels, cmap='Blues')\n",
    "plt.title('Confusion Matrix')\n",
    "plt.xlabel('Predicted')\n",
    "plt.ylabel('True')\n",
    "plt.show()"
   ]
  },
  {
   "attachments": {},
   "cell_type": "markdown",
   "metadata": {},
   "source": [
    "# Embeddings zero-shot model"
   ]
  },
  {
   "cell_type": "code",
   "execution_count": 11,
   "metadata": {},
   "outputs": [],
   "source": [
    "from zero_shot_models.embeddings import get_spacy_predictions"
   ]
  },
  {
   "cell_type": "code",
   "execution_count": 18,
   "metadata": {},
   "outputs": [
    {
     "name": "stdout",
     "output_type": "stream",
     "text": [
      "<class 'pandas.core.frame.DataFrame'>\n",
      "RangeIndex: 1284 entries, 0 to 1283\n",
      "Data columns (total 14 columns):\n",
      " #   Column               Non-Null Count  Dtype \n",
      "---  ------               --------------  ----- \n",
      " 0   id                   1284 non-null   object\n",
      " 1   label                1284 non-null   object\n",
      " 2   statement            1284 non-null   object\n",
      " 3   subject              1284 non-null   object\n",
      " 4   speaker              1284 non-null   object\n",
      " 5   speaker_job          939 non-null    object\n",
      " 6   state_info           1005 non-null   object\n",
      " 7   party                1284 non-null   object\n",
      " 8   barely_true_count    1284 non-null   int64 \n",
      " 9   false_count          1284 non-null   int64 \n",
      " 10  half_true_count      1284 non-null   int64 \n",
      " 11  mostly_true_count    1284 non-null   int64 \n",
      " 12  pants_on_fire_count  1284 non-null   int64 \n",
      " 13  context              1272 non-null   object\n",
      "dtypes: int64(5), object(9)\n",
      "memory usage: 140.6+ KB\n"
     ]
    }
   ],
   "source": [
    "valid.info()"
   ]
  },
  {
   "cell_type": "code",
   "execution_count": 12,
   "metadata": {},
   "outputs": [],
   "source": [
    "labels = ['true', 'false']"
   ]
  },
  {
   "cell_type": "code",
   "execution_count": 13,
   "metadata": {},
   "outputs": [],
   "source": [
    "valid_embeddings_results = get_spacy_predictions(valid.copy(), \"statement\", labels)"
   ]
  },
  {
   "cell_type": "code",
   "execution_count": 14,
   "metadata": {},
   "outputs": [
    {
     "data": {
      "text/html": [
       "<div>\n",
       "<style scoped>\n",
       "    .dataframe tbody tr th:only-of-type {\n",
       "        vertical-align: middle;\n",
       "    }\n",
       "\n",
       "    .dataframe tbody tr th {\n",
       "        vertical-align: top;\n",
       "    }\n",
       "\n",
       "    .dataframe thead th {\n",
       "        text-align: right;\n",
       "    }\n",
       "</style>\n",
       "<table border=\"1\" class=\"dataframe\">\n",
       "  <thead>\n",
       "    <tr style=\"text-align: right;\">\n",
       "      <th></th>\n",
       "      <th>prediction</th>\n",
       "      <th>max_score</th>\n",
       "      <th>id</th>\n",
       "      <th>label</th>\n",
       "      <th>statement</th>\n",
       "      <th>subject</th>\n",
       "      <th>speaker</th>\n",
       "      <th>speaker_job</th>\n",
       "      <th>state_info</th>\n",
       "      <th>party</th>\n",
       "      <th>barely_true_count</th>\n",
       "      <th>false_count</th>\n",
       "      <th>half_true_count</th>\n",
       "      <th>mostly_true_count</th>\n",
       "      <th>pants_on_fire_count</th>\n",
       "      <th>context</th>\n",
       "    </tr>\n",
       "  </thead>\n",
       "  <tbody>\n",
       "    <tr>\n",
       "      <th>0</th>\n",
       "      <td>true</td>\n",
       "      <td>0.576041</td>\n",
       "      <td>12134.json</td>\n",
       "      <td>false</td>\n",
       "      <td>We have less Americans working now than in the 70s.</td>\n",
       "      <td>economy,jobs</td>\n",
       "      <td>vicky-hartzler</td>\n",
       "      <td>U.S. Representative</td>\n",
       "      <td>Missouri</td>\n",
       "      <td>republican</td>\n",
       "      <td>1</td>\n",
       "      <td>0</td>\n",
       "      <td>1</td>\n",
       "      <td>0</td>\n",
       "      <td>0</td>\n",
       "      <td>an interview with ABC17 News</td>\n",
       "    </tr>\n",
       "    <tr>\n",
       "      <th>1</th>\n",
       "      <td>true</td>\n",
       "      <td>0.628910</td>\n",
       "      <td>238.json</td>\n",
       "      <td>false</td>\n",
       "      <td>When Obama was sworn into office, he DID NOT use the Holy Bible, but instead the Kuran (Their equivalency to our Bible, but very different beliefs).</td>\n",
       "      <td>obama-birth-certificate,religion</td>\n",
       "      <td>chain-email</td>\n",
       "      <td>NaN</td>\n",
       "      <td>NaN</td>\n",
       "      <td>none</td>\n",
       "      <td>11</td>\n",
       "      <td>43</td>\n",
       "      <td>8</td>\n",
       "      <td>5</td>\n",
       "      <td>105</td>\n",
       "      <td>NaN</td>\n",
       "    </tr>\n",
       "    <tr>\n",
       "      <th>2</th>\n",
       "      <td>true</td>\n",
       "      <td>0.560956</td>\n",
       "      <td>7891.json</td>\n",
       "      <td>false</td>\n",
       "      <td>Says Having organizations parading as being social welfare organizations and then being involved in the political combat harkens back to why the statute a hundred years ago said that they were prohibited.</td>\n",
       "      <td>campaign-finance,congress,taxes</td>\n",
       "      <td>earl-blumenauer</td>\n",
       "      <td>U.S. representative</td>\n",
       "      <td>Oregon</td>\n",
       "      <td>democrat</td>\n",
       "      <td>0</td>\n",
       "      <td>1</td>\n",
       "      <td>1</td>\n",
       "      <td>1</td>\n",
       "      <td>0</td>\n",
       "      <td>a U.S. Ways and Means hearing</td>\n",
       "    </tr>\n",
       "    <tr>\n",
       "      <th>3</th>\n",
       "      <td>true</td>\n",
       "      <td>0.501756</td>\n",
       "      <td>8169.json</td>\n",
       "      <td>false</td>\n",
       "      <td>Says nearly half of Oregons children are poor.</td>\n",
       "      <td>poverty</td>\n",
       "      <td>jim-francesconi</td>\n",
       "      <td>Member of the State Board of Higher Education</td>\n",
       "      <td>Oregon</td>\n",
       "      <td>none</td>\n",
       "      <td>0</td>\n",
       "      <td>1</td>\n",
       "      <td>1</td>\n",
       "      <td>1</td>\n",
       "      <td>0</td>\n",
       "      <td>an opinion article</td>\n",
       "    </tr>\n",
       "    <tr>\n",
       "      <th>4</th>\n",
       "      <td>true</td>\n",
       "      <td>0.572722</td>\n",
       "      <td>929.json</td>\n",
       "      <td>false</td>\n",
       "      <td>On attacks by Republicans that various programs in the economic stimulus plan are not stimulative, \"If you add all that stuff up, it accounts for less than 1 percent of the overall package.\"</td>\n",
       "      <td>economy,stimulus</td>\n",
       "      <td>barack-obama</td>\n",
       "      <td>President</td>\n",
       "      <td>Illinois</td>\n",
       "      <td>democrat</td>\n",
       "      <td>70</td>\n",
       "      <td>71</td>\n",
       "      <td>160</td>\n",
       "      <td>163</td>\n",
       "      <td>9</td>\n",
       "      <td>interview with CBS News</td>\n",
       "    </tr>\n",
       "  </tbody>\n",
       "</table>\n",
       "</div>"
      ],
      "text/plain": [
       "  prediction  max_score          id  label  \\\n",
       "0       true   0.576041  12134.json  false   \n",
       "1       true   0.628910    238.json  false   \n",
       "2       true   0.560956   7891.json  false   \n",
       "3       true   0.501756   8169.json  false   \n",
       "4       true   0.572722    929.json  false   \n",
       "\n",
       "                                                                                                                                                                                                      statement  \\\n",
       "0                                                                                                                                                           We have less Americans working now than in the 70s.   \n",
       "1                                                          When Obama was sworn into office, he DID NOT use the Holy Bible, but instead the Kuran (Their equivalency to our Bible, but very different beliefs).   \n",
       "2  Says Having organizations parading as being social welfare organizations and then being involved in the political combat harkens back to why the statute a hundred years ago said that they were prohibited.   \n",
       "3                                                                                                                                                                Says nearly half of Oregons children are poor.   \n",
       "4                On attacks by Republicans that various programs in the economic stimulus plan are not stimulative, \"If you add all that stuff up, it accounts for less than 1 percent of the overall package.\"   \n",
       "\n",
       "                            subject          speaker  \\\n",
       "0                      economy,jobs   vicky-hartzler   \n",
       "1  obama-birth-certificate,religion      chain-email   \n",
       "2   campaign-finance,congress,taxes  earl-blumenauer   \n",
       "3                           poverty  jim-francesconi   \n",
       "4                  economy,stimulus     barack-obama   \n",
       "\n",
       "                                     speaker_job state_info       party  \\\n",
       "0                            U.S. Representative   Missouri  republican   \n",
       "1                                            NaN        NaN        none   \n",
       "2                            U.S. representative     Oregon    democrat   \n",
       "3  Member of the State Board of Higher Education     Oregon        none   \n",
       "4                                      President   Illinois    democrat   \n",
       "\n",
       "   barely_true_count  false_count  half_true_count  mostly_true_count  \\\n",
       "0                  1            0                1                  0   \n",
       "1                 11           43                8                  5   \n",
       "2                  0            1                1                  1   \n",
       "3                  0            1                1                  1   \n",
       "4                 70           71              160                163   \n",
       "\n",
       "   pants_on_fire_count                        context  \n",
       "0                    0   an interview with ABC17 News  \n",
       "1                  105                            NaN  \n",
       "2                    0  a U.S. Ways and Means hearing  \n",
       "3                    0             an opinion article  \n",
       "4                    9        interview with CBS News  "
      ]
     },
     "execution_count": 14,
     "metadata": {},
     "output_type": "execute_result"
    }
   ],
   "source": [
    "valid_embeddings_results.head()"
   ]
  },
  {
   "cell_type": "code",
   "execution_count": 15,
   "metadata": {},
   "outputs": [],
   "source": [
    "test_embeddings_results = get_spacy_predictions(test.copy(), \"statement\", labels)"
   ]
  },
  {
   "cell_type": "code",
   "execution_count": 24,
   "metadata": {},
   "outputs": [
    {
     "name": "stdout",
     "output_type": "stream",
     "text": [
      "              precision    recall  f1-score   support\n",
      "\n",
      "       false       0.60      0.00      0.01       864\n",
      "        true       0.33      1.00      0.49       420\n",
      "\n",
      "    accuracy                           0.33      1284\n",
      "   macro avg       0.46      0.50      0.25      1284\n",
      "weighted avg       0.51      0.33      0.17      1284\n",
      "\n"
     ]
    },
    {
     "data": {
      "text/plain": [
       "<AxesSubplot:>"
      ]
     },
     "execution_count": 24,
     "metadata": {},
     "output_type": "execute_result"
    },
    {
     "data": {
      "text/plain": [
       "Text(0.5, 1.0, 'Confusion Matrix')"
      ]
     },
     "execution_count": 24,
     "metadata": {},
     "output_type": "execute_result"
    },
    {
     "data": {
      "text/plain": [
       "Text(0.5, 15.0, 'Predicted')"
      ]
     },
     "execution_count": 24,
     "metadata": {},
     "output_type": "execute_result"
    },
    {
     "data": {
      "text/plain": [
       "Text(33.0, 0.5, 'True')"
      ]
     },
     "execution_count": 24,
     "metadata": {},
     "output_type": "execute_result"
    },
    {
     "data": {
      "image/png": "[encoded data removed]",
      "text/plain": [
       "<Figure size 432x288 with 2 Axes>"
      ]
     },
     "metadata": {
      "needs_background": "light"
     },
     "output_type": "display_data"
    }
   ],
   "source": [
    "# print classification report and confusion matrix as a heatmap for valid set\n",
    "print(classification_report(valid_embeddings_results.label, valid_embeddings_results.prediction, zero_division=0))\n",
    "cm = confusion_matrix(valid_embeddings_results.label, valid_embeddings_results.prediction)\n",
    "# make a heatmap with labels and values and a blue-ish color scheme\n",
    "# Include a row for the supports\n",
    "sns.heatmap(cm, annot=True, fmt='d', xticklabels=labels, yticklabels=labels, cmap='Blues')\n",
    "plt.title('Confusion Matrix')\n",
    "plt.xlabel('Predicted')\n",
    "plt.ylabel('True')\n",
    "plt.show()"
   ]
  },
  {
   "cell_type": "code",
   "execution_count": 25,
   "metadata": {},
   "outputs": [
    {
     "name": "stdout",
     "output_type": "stream",
     "text": [
      "              precision    recall  f1-score   support\n",
      "\n",
      "       false       1.00      0.01      0.02       818\n",
      "        true       0.36      1.00      0.53       449\n",
      "\n",
      "    accuracy                           0.36      1267\n",
      "   macro avg       0.68      0.50      0.27      1267\n",
      "weighted avg       0.77      0.36      0.20      1267\n",
      "\n"
     ]
    },
    {
     "data": {
      "text/plain": [
       "<AxesSubplot:>"
      ]
     },
     "execution_count": 25,
     "metadata": {},
     "output_type": "execute_result"
    },
    {
     "data": {
      "text/plain": [
       "Text(0.5, 1.0, 'Confusion Matrix')"
      ]
     },
     "execution_count": 25,
     "metadata": {},
     "output_type": "execute_result"
    },
    {
     "data": {
      "text/plain": [
       "Text(0.5, 15.0, 'Predicted')"
      ]
     },
     "execution_count": 25,
     "metadata": {},
     "output_type": "execute_result"
    },
    {
     "data": {
      "text/plain": [
       "Text(33.0, 0.5, 'True')"
      ]
     },
     "execution_count": 25,
     "metadata": {},
     "output_type": "execute_result"
    },
    {
     "data": {
      "image/png": "[encoded data removed]",
      "text/plain": [
       "<Figure size 432x288 with 2 Axes>"
      ]
     },
     "metadata": {
      "needs_background": "light"
     },
     "output_type": "display_data"
    }
   ],
   "source": [
    "# print classification report and confusion matrix as a heatmap for test set\n",
    "print(classification_report(test_embeddings_results.label, test_embeddings_results.prediction, zero_division=0))\n",
    "cm = confusion_matrix(test_embeddings_results.label, test_embeddings_results.prediction)\n",
    "# make a heatmap with labels and values and a blue-ish color scheme\n",
    "# Include a row for the supports\n",
    "sns.heatmap(cm, annot=True, fmt='d', xticklabels=labels, yticklabels=labels, cmap='Blues')\n",
    "plt.title('Confusion Matrix')\n",
    "plt.xlabel('Predicted')\n",
    "plt.ylabel('True')\n",
    "plt.show()"
   ]
  },
  {
   "attachments": {},
   "cell_type": "markdown",
   "metadata": {},
   "source": [
    "# Zero-shot classification with sentence-transformer NLI models"
   ]
  },
  {
   "cell_type": "code",
   "execution_count": 18,
   "metadata": {},
   "outputs": [],
   "source": [
    "from zero_shot_models.nli_sentencetransformer import get_nli_transformer_prediction"
   ]
  },
  {
   "cell_type": "code",
   "execution_count": 21,
   "metadata": {},
   "outputs": [],
   "source": [
    "labels = ['true', 'false']"
   ]
  },
  {
   "cell_type": "code",
   "execution_count": 22,
   "metadata": {},
   "outputs": [
    {
     "name": "stderr",
     "output_type": "stream",
     "text": [
      "100%|██████████| 1284/1284 [02:26<00:00,  8.76it/s]\n"
     ]
    }
   ],
   "source": [
    "valid_nli_results = get_nli_transformer_prediction(valid.copy(), \"statement\", labels)\n",
    "valid_nli_results.to_csv('valid_nli_results_binary.csv', index=False)\n"
   ]
  },
  {
   "cell_type": "code",
   "execution_count": 23,
   "metadata": {},
   "outputs": [
    {
     "name": "stderr",
     "output_type": "stream",
     "text": [
      "100%|██████████| 1267/1267 [02:07<00:00,  9.92it/s]\n"
     ]
    }
   ],
   "source": [
    "\n",
    "test_nli_results = get_nli_transformer_prediction(test.copy(), \"statement\", labels)\n",
    "test_nli_results.to_csv('test_nli_results_binary.csv', index=False)\n"
   ]
  },
  {
   "cell_type": "code",
   "execution_count": 26,
   "metadata": {},
   "outputs": [
    {
     "name": "stdout",
     "output_type": "stream",
     "text": [
      "              precision    recall  f1-score   support\n",
      "\n",
      "       false       0.68      0.79      0.73       864\n",
      "        true       0.36      0.24      0.29       420\n",
      "\n",
      "    accuracy                           0.61      1284\n",
      "   macro avg       0.52      0.52      0.51      1284\n",
      "weighted avg       0.58      0.61      0.59      1284\n",
      "\n"
     ]
    },
    {
     "data": {
      "text/plain": [
       "<AxesSubplot:>"
      ]
     },
     "execution_count": 26,
     "metadata": {},
     "output_type": "execute_result"
    },
    {
     "data": {
      "text/plain": [
       "Text(0.5, 1.0, 'Confusion Matrix')"
      ]
     },
     "execution_count": 26,
     "metadata": {},
     "output_type": "execute_result"
    },
    {
     "data": {
      "text/plain": [
       "Text(0.5, 15.0, 'Predicted')"
      ]
     },
     "execution_count": 26,
     "metadata": {},
     "output_type": "execute_result"
    },
    {
     "data": {
      "text/plain": [
       "Text(33.0, 0.5, 'True')"
      ]
     },
     "execution_count": 26,
     "metadata": {},
     "output_type": "execute_result"
    },
    {
     "data": {
      "image/png": "[encoded data removed]",
      "text/plain": [
       "<Figure size 432x288 with 2 Axes>"
      ]
     },
     "metadata": {
      "needs_background": "light"
     },
     "output_type": "display_data"
    }
   ],
   "source": [
    "# print classification report and confusion matrix as a heatmap for valid set\n",
    "print(classification_report(valid_nli_results.label, valid_nli_results.prediction, zero_division=0))\n",
    "cm = confusion_matrix(valid_nli_results.label, valid_nli_results.prediction)\n",
    "# make a heatmap with labels and values and a blue-ish color scheme\n",
    "# Include a row for the supports\n",
    "sns.heatmap(cm, annot=True, fmt='d', xticklabels=labels, yticklabels=labels, cmap='Blues')\n",
    "plt.title('Confusion Matrix')\n",
    "plt.xlabel('Predicted')\n",
    "plt.ylabel('True')\n",
    "plt.show()"
   ]
  },
  {
   "cell_type": "code",
   "execution_count": 27,
   "metadata": {},
   "outputs": [
    {
     "name": "stdout",
     "output_type": "stream",
     "text": [
      "              precision    recall  f1-score   support\n",
      "\n",
      "       false       0.66      0.79      0.72       818\n",
      "        true       0.41      0.27      0.32       449\n",
      "\n",
      "    accuracy                           0.60      1267\n",
      "   macro avg       0.54      0.53      0.52      1267\n",
      "weighted avg       0.57      0.60      0.58      1267\n",
      "\n"
     ]
    },
    {
     "data": {
      "text/plain": [
       "<AxesSubplot:>"
      ]
     },
     "execution_count": 27,
     "metadata": {},
     "output_type": "execute_result"
    },
    {
     "data": {
      "text/plain": [
       "Text(0.5, 1.0, 'Confusion Matrix')"
      ]
     },
     "execution_count": 27,
     "metadata": {},
     "output_type": "execute_result"
    },
    {
     "data": {
      "text/plain": [
       "Text(0.5, 15.0, 'Predicted')"
      ]
     },
     "execution_count": 27,
     "metadata": {},
     "output_type": "execute_result"
    },
    {
     "data": {
      "text/plain": [
       "Text(33.0, 0.5, 'True')"
      ]
     },
     "execution_count": 27,
     "metadata": {},
     "output_type": "execute_result"
    },
    {
     "data": {
      "image/png": "[encoded data removed]",
      "text/plain": [
       "<Figure size 432x288 with 2 Axes>"
      ]
     },
     "metadata": {
      "needs_background": "light"
     },
     "output_type": "display_data"
    }
   ],
   "source": [
    "# print classification report and confusion matrix as a heatmap for test set\n",
    "print(classification_report(test_nli_results.label, test_nli_results.prediction, zero_division=0))\n",
    "cm = confusion_matrix(test_nli_results.label, test_nli_results.prediction)\n",
    "# make a heatmap with labels and values and a blue-ish color scheme\n",
    "# Include a row for the supports\n",
    "sns.heatmap(cm, annot=True, fmt='d', xticklabels=labels, yticklabels=labels, cmap='Blues')\n",
    "plt.title('Confusion Matrix')\n",
    "plt.xlabel('Predicted')\n",
    "plt.ylabel('True')\n",
    "plt.show()"
   ]
  },
  {
   "cell_type": "markdown",
   "metadata": {},
   "source": [
    "# Zero-shot classification with Sentence transformer"
   ]
  },
  {
   "cell_type": "code",
   "execution_count": 28,
   "metadata": {},
   "outputs": [],
   "source": [
    "from zero_shot_models.transfomer import get_transformer_prediction"
   ]
  },
  {
   "cell_type": "code",
   "execution_count": 29,
   "metadata": {},
   "outputs": [
    {
     "name": "stderr",
     "output_type": "stream",
     "text": [
      "100%|██████████| 1284/1284 [02:32<00:00,  8.44it/s]\n"
     ]
    }
   ],
   "source": [
    "model_name = 'cross-encoder/nli-distilroberta-base'\n",
    "valid_sentransformer_results = get_transformer_prediction(valid.copy(), \"statement\", labels, model_name)\n",
    "valid_sentransformer_results.to_csv('valid_sentransformer_results_binary.csv', index=False)\n"
   ]
  },
  {
   "cell_type": "code",
   "execution_count": 30,
   "metadata": {},
   "outputs": [
    {
     "name": "stderr",
     "output_type": "stream",
     "text": [
      "100%|██████████| 1267/1267 [02:20<00:00,  9.00it/s]\n"
     ]
    }
   ],
   "source": [
    "test_sentransformer_results = get_transformer_prediction(test.copy(), \"statement\", labels, model_name)\n",
    "test_sentransformer_results.to_csv('test_sentransformer_results_binary.csv', index=False)\n"
   ]
  },
  {
   "attachments": {},
   "cell_type": "markdown",
   "metadata": {},
   "source": [
    "# Zero-shot classification with transformer models"
   ]
  },
  {
   "cell_type": "code",
   "execution_count": 31,
   "metadata": {},
   "outputs": [],
   "source": [
    "from zero_shot_models.transfomer import get_transformer_prediction"
   ]
  },
  {
   "cell_type": "code",
   "execution_count": 32,
   "metadata": {},
   "outputs": [
    {
     "name": "stderr",
     "output_type": "stream",
     "text": [
      "100%|██████████| 1284/1284 [16:26<00:00,  1.30it/s]\n"
     ]
    }
   ],
   "source": [
    "valid_transformer_results = get_transformer_prediction(valid.copy(), \"statement\", labels)\n",
    "valid_transformer_results.to_csv('valid_transformer_results_binary.csv', index=False)"
   ]
  },
  {
   "cell_type": "code",
   "execution_count": 33,
   "metadata": {},
   "outputs": [
    {
     "name": "stderr",
     "output_type": "stream",
     "text": [
      "100%|██████████| 1267/1267 [16:37<00:00,  1.27it/s]\n"
     ]
    }
   ],
   "source": [
    "test_transformer_results = get_transformer_prediction(test.copy(), \"statement\", labels)\n",
    "test_transformer_results.to_csv('test_transformer_results_binary.csv', index=False)"
   ]
  },
  {
   "cell_type": "code",
   "execution_count": null,
   "metadata": {},
   "outputs": [],
   "source": []
  },
  {
   "cell_type": "code",
   "execution_count": null,
   "metadata": {},
   "outputs": [],
   "source": []
  }
 ],
 "metadata": {
  "kernelspec": {
   "display_name": "base",
   "language": "python",
   "name": "python3"
  },
  "language_info": {
   "codemirror_mode": {
    "name": "ipython",
    "version": 3
   },
   "file_extension": ".py",
   "mimetype": "text/x-python",
   "name": "python",
   "nbconvert_exporter": "python",
   "pygments_lexer": "ipython3",
   "version": "3.9.7"
  },
  "orig_nbformat": 4,
  "vscode": {
   "interpreter": {
    "hash": "3582eee5de9267f828bda4ee5a193849b84c162ef47b9da069e91d3e3fec8841"
   }
  }
 },
 "nbformat": 4,
 "nbformat_minor": 2
}
