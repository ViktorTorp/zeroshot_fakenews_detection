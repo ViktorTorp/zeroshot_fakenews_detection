{
 "cells": [
  {
   "cell_type": "code",
   "execution_count": 1,
   "metadata": {},
   "outputs": [],
   "source": [
    "# automatic reloading of modules\n",
    "%load_ext autoreload\n",
    "%autoreload 2"
   ]
  },
  {
   "cell_type": "code",
   "execution_count": 2,
   "metadata": {},
   "outputs": [],
   "source": [
    "import os\n",
    "import openai\n",
    "import pandas as pd"
   ]
  },
  {
   "cell_type": "code",
   "execution_count": 3,
   "metadata": {},
   "outputs": [],
   "source": [
    "# print the entire output of a cell\n",
    "from IPython.core.interactiveshell import InteractiveShell\n",
    "InteractiveShell.ast_node_interactivity = \"all\"\n",
    "\n",
    "# also print the entire content of a dfs column\n",
    "pd.set_option('display.max_colwidth', None)"
   ]
  },
  {
   "cell_type": "code",
   "execution_count": 1,
   "metadata": {},
   "outputs": [],
   "source": [
    "from zero_shot_models.cgpt import *"
   ]
  },
  {
   "cell_type": "code",
   "execution_count": 2,
   "metadata": {},
   "outputs": [],
   "source": [
    "path_to_data = '../data/liar_dataset/test.tsv'\n",
    "test = read_data(path_to_data)\n",
    "\n",
    "path_to_data = '../data/liar_dataset/valid.tsv'\n",
    "valid = read_data(path_to_data)\n",
    "\n",
    "path_to_data = '../data/liar_dataset/train.tsv'\n",
    "train = read_data(path_to_data)\n"
   ]
  },
  {
   "cell_type": "code",
   "execution_count": 3,
   "metadata": {},
   "outputs": [],
   "source": [
    "labels_map = {'pants-fire': \"false\", 'false':\"false\", 'barely-true':\"false\", 'half-true':\"false\", 'mostly-true':\"true\", 'true':\"true\"}"
   ]
  },
  {
   "cell_type": "code",
   "execution_count": 4,
   "metadata": {},
   "outputs": [],
   "source": [
    "test[\"label\"] = test[\"label\"].map(labels_map)\n",
    "valid[\"label\"] = valid[\"label\"].map(labels_map)\n",
    "train[\"label\"] = train[\"label\"].map(labels_map)"
   ]
  },
  {
   "cell_type": "code",
   "execution_count": 5,
   "metadata": {},
   "outputs": [
    {
     "data": {
      "text/plain": [
       "false    864\n",
       "true     420\n",
       "Name: label, dtype: int64"
      ]
     },
     "execution_count": 5,
     "metadata": {},
     "output_type": "execute_result"
    }
   ],
   "source": [
    "valid.label.value_counts()"
   ]
  },
  {
   "cell_type": "code",
   "execution_count": 6,
   "metadata": {},
   "outputs": [
    {
     "data": {
      "text/plain": [
       "false    818\n",
       "true     449\n",
       "Name: label, dtype: int64"
      ]
     },
     "execution_count": 6,
     "metadata": {},
     "output_type": "execute_result"
    }
   ],
   "source": [
    "test.label.value_counts()"
   ]
  },
  {
   "cell_type": "code",
   "execution_count": 13,
   "metadata": {},
   "outputs": [
    {
     "name": "stderr",
     "output_type": "stream",
     "text": [
      "/Users/viktortorpthomsen/Desktop/kds/sem4/research_project/src/zero_shot_models/cgpt.py:122: SettingWithCopyWarning: \n",
      "A value is trying to be set on a copy of a slice from a DataFrame.\n",
      "Try using .loc[row_indexer,col_indexer] = value instead\n",
      "\n",
      "See the caveats in the documentation: https://pandas.pydata.org/pandas-docs/stable/user_guide/indexing.html#returning-a-view-versus-a-copy\n",
      "  df[\"prediction\"] = [\"\"] * len(df)\n",
      "/Users/viktortorpthomsen/Desktop/kds/sem4/research_project/src/zero_shot_models/cgpt.py:123: SettingWithCopyWarning: \n",
      "A value is trying to be set on a copy of a slice from a DataFrame.\n",
      "Try using .loc[row_indexer,col_indexer] = value instead\n",
      "\n",
      "See the caveats in the documentation: https://pandas.pydata.org/pandas-docs/stable/user_guide/indexing.html#returning-a-view-versus-a-copy\n",
      "  df[\"explanation\"] = [\"\"] *  len(df)\n",
      "  0%|          | 0/1 [00:00<?, ?it/s]/Users/viktortorpthomsen/opt/anaconda3/lib/python3.9/site-packages/pandas/core/indexing.py:1773: SettingWithCopyWarning: \n",
      "A value is trying to be set on a copy of a slice from a DataFrame.\n",
      "Try using .loc[row_indexer,col_indexer] = value instead\n",
      "\n",
      "See the caveats in the documentation: https://pandas.pydata.org/pandas-docs/stable/user_guide/indexing.html#returning-a-view-versus-a-copy\n",
      "  self._setitem_single_column(ilocs[0], value, pi)\n",
      "100%|██████████| 1/1 [00:01<00:00,  1.93s/it]"
     ]
    },
    {
     "name": "stdout",
     "output_type": "stream",
     "text": [
      "99 1\n",
      "99 1\n"
     ]
    },
    {
     "name": "stderr",
     "output_type": "stream",
     "text": [
      "\n"
     ]
    },
    {
     "data": {
      "text/html": [
       "<div>\n",
       "<style scoped>\n",
       "    .dataframe tbody tr th:only-of-type {\n",
       "        vertical-align: middle;\n",
       "    }\n",
       "\n",
       "    .dataframe tbody tr th {\n",
       "        vertical-align: top;\n",
       "    }\n",
       "\n",
       "    .dataframe thead th {\n",
       "        text-align: right;\n",
       "    }\n",
       "</style>\n",
       "<table border=\"1\" class=\"dataframe\">\n",
       "  <thead>\n",
       "    <tr style=\"text-align: right;\">\n",
       "      <th></th>\n",
       "      <th>id</th>\n",
       "      <th>label</th>\n",
       "      <th>statement</th>\n",
       "      <th>subject</th>\n",
       "      <th>speaker</th>\n",
       "      <th>speaker_job</th>\n",
       "      <th>state_info</th>\n",
       "      <th>party</th>\n",
       "      <th>barely_true_count</th>\n",
       "      <th>false_count</th>\n",
       "      <th>half_true_count</th>\n",
       "      <th>mostly_true_count</th>\n",
       "      <th>pants_on_fire_count</th>\n",
       "      <th>context</th>\n",
       "      <th>prediction</th>\n",
       "      <th>explanation</th>\n",
       "    </tr>\n",
       "  </thead>\n",
       "  <tbody>\n",
       "    <tr>\n",
       "      <th>0</th>\n",
       "      <td>11972.json</td>\n",
       "      <td>true</td>\n",
       "      <td>Building a wall on the U.S.-Mexico border will take literally years.</td>\n",
       "      <td>immigration</td>\n",
       "      <td>rick-perry</td>\n",
       "      <td>Governor</td>\n",
       "      <td>Texas</td>\n",
       "      <td>republican</td>\n",
       "      <td>30</td>\n",
       "      <td>30</td>\n",
       "      <td>42</td>\n",
       "      <td>23</td>\n",
       "      <td>18</td>\n",
       "      <td>Radio interview</td>\n",
       "      <td>mostly-true</td>\n",
       "      <td>Building a wall on the U.S.-Mexico border will likely take several years to complete, depending on the size and scope of the project.</td>\n",
       "    </tr>\n",
       "  </tbody>\n",
       "</table>\n",
       "</div>"
      ],
      "text/plain": [
       "           id label  \\\n",
       "0  11972.json  true   \n",
       "\n",
       "                                                              statement  \\\n",
       "0  Building a wall on the U.S.-Mexico border will take literally years.   \n",
       "\n",
       "       subject     speaker speaker_job state_info       party  \\\n",
       "0  immigration  rick-perry    Governor      Texas  republican   \n",
       "\n",
       "   barely_true_count  false_count  half_true_count  mostly_true_count  \\\n",
       "0                 30           30               42                 23   \n",
       "\n",
       "   pants_on_fire_count          context   prediction  \\\n",
       "0                   18  Radio interview  mostly-true   \n",
       "\n",
       "                                                                                                                             explanation  \n",
       "0  Building a wall on the U.S.-Mexico border will likely take several years to complete, depending on the size and scope of the project.  "
      ]
     },
     "execution_count": 13,
     "metadata": {},
     "output_type": "execute_result"
    }
   ],
   "source": [
    "get_label_and_explanation_from_df(test.head(1), text_col='statement', include_speaker=True, include_subject=True, include_job_title=True, include_context=True)"
   ]
  },
  {
   "cell_type": "code",
   "execution_count": 9,
   "metadata": {},
   "outputs": [
    {
     "data": {
      "text/plain": [
       "20.50898"
      ]
     },
     "execution_count": 9,
     "metadata": {},
     "output_type": "execute_result"
    }
   ],
   "source": [
    "calc_price(train, get_prompt(\"\"),token_price=0.02/1000 )"
   ]
  },
  {
   "cell_type": "code",
   "execution_count": 10,
   "metadata": {},
   "outputs": [],
   "source": [
    "openai.api_key = \"SOME_KEY\""
   ]
  },
  {
   "cell_type": "code",
   "execution_count": 12,
   "metadata": {},
   "outputs": [
    {
     "name": "stdout",
     "output_type": "stream",
     "text": [
      "huggingface/tokenizers: The current process just got forked, after parallelism has already been used. Disabling parallelism to avoid deadlocks...\n",
      "To disable this warning, you can either:\n",
      "\t- Avoid using `tokenizers` before the fork if possible\n",
      "\t- Explicitly set the environment variable TOKENIZERS_PARALLELISM=(true | false)\n"
     ]
    },
    {
     "name": "stderr",
     "output_type": "stream",
     "text": [
      "100%|██████████| 1024/1024 [9:08:38<00:00, 32.15s/it]   \n"
     ]
    }
   ],
   "source": [
    "train_results = get_label_and_explanation_from_df(train, binary=True, text_col='statement', include_speaker=True, include_subject=True, include_job_title=True, include_context=True, path_to_save='train_cgpt_binary_context_p2.csv')\n",
    "#train_results.to_csv('train_cgpt_binary_context.csv')"
   ]
  },
  {
   "cell_type": "code",
   "execution_count": null,
   "metadata": {},
   "outputs": [],
   "source": [
    "valid_results = get_label_and_explanation_from_df(valid, binary=True, text_col='statement', include_speaker=True, include_subject=True, include_job_title=True, include_context=True)\n",
    "valid_results.to_csv('valid_cgpt_binary_context.csv')"
   ]
  },
  {
   "cell_type": "code",
   "execution_count": 89,
   "metadata": {},
   "outputs": [],
   "source": [
    "test_results = get_label_and_explanation_from_df(test, binary=True, text_col='statement', include_speaker=True, include_subject=True, include_job_title=True, include_context=True)\n",
    "test_results.to_csv('test_cgpt_binary_context.csv')"
   ]
  },
  {
   "cell_type": "code",
   "execution_count": 90,
   "metadata": {},
   "outputs": [],
   "source": [
    "labels = ['false', 'true']"
   ]
  },
  {
   "attachments": {},
   "cell_type": "markdown",
   "metadata": {},
   "source": [
    "# Results overview"
   ]
  },
  {
   "cell_type": "code",
   "execution_count": 91,
   "metadata": {},
   "outputs": [],
   "source": [
    "# import pandas, np, matplotlib, and from sklearn import classification report, accuracy, f1, confusion matrix\n",
    "import pandas as pd\n",
    "import numpy as np\n",
    "import matplotlib.pyplot as plt\n",
    "import seaborn as sns\n",
    "from sklearn.metrics import classification_report, accuracy_score, f1_score, confusion_matrix\n"
   ]
  },
  {
   "cell_type": "code",
   "execution_count": 92,
   "metadata": {},
   "outputs": [],
   "source": [
    "valid_true = valid_results.label.values\n",
    "valid_pred = valid_results.prediction.values"
   ]
  },
  {
   "cell_type": "code",
   "execution_count": 93,
   "metadata": {},
   "outputs": [],
   "source": [
    "test_true = test_results.label.values\n",
    "test_pred = test_results.prediction.values"
   ]
  },
  {
   "cell_type": "code",
   "execution_count": 94,
   "metadata": {},
   "outputs": [
    {
     "data": {
      "text/plain": [
       "(array(['false', 'true'], dtype=object), array([1041,  243]))"
      ]
     },
     "execution_count": 94,
     "metadata": {},
     "output_type": "execute_result"
    }
   ],
   "source": [
    "np.unique(valid_pred, return_counts=True)"
   ]
  },
  {
   "cell_type": "code",
   "execution_count": 95,
   "metadata": {},
   "outputs": [
    {
     "data": {
      "text/plain": [
       "(array(['false', 'true'], dtype=object), array([972, 295]))"
      ]
     },
     "execution_count": 95,
     "metadata": {},
     "output_type": "execute_result"
    }
   ],
   "source": [
    "np.unique(test_pred, return_counts=True)"
   ]
  },
  {
   "cell_type": "code",
   "execution_count": 96,
   "metadata": {},
   "outputs": [
    {
     "name": "stdout",
     "output_type": "stream",
     "text": [
      "              precision    recall  f1-score   support\n",
      "\n",
      "       false       0.70      0.85      0.77       864\n",
      "        true       0.46      0.26      0.33       420\n",
      "\n",
      "    accuracy                           0.66      1284\n",
      "   macro avg       0.58      0.56      0.55      1284\n",
      "weighted avg       0.62      0.66      0.63      1284\n",
      "\n"
     ]
    },
    {
     "data": {
      "text/plain": [
       "<AxesSubplot:>"
      ]
     },
     "execution_count": 96,
     "metadata": {},
     "output_type": "execute_result"
    },
    {
     "data": {
      "text/plain": [
       "Text(0.5, 1.0, 'Confusion Matrix')"
      ]
     },
     "execution_count": 96,
     "metadata": {},
     "output_type": "execute_result"
    },
    {
     "data": {
      "text/plain": [
       "Text(0.5, 15.0, 'Predicted')"
      ]
     },
     "execution_count": 96,
     "metadata": {},
     "output_type": "execute_result"
    },
    {
     "data": {
      "text/plain": [
       "Text(33.0, 0.5, 'True')"
      ]
     },
     "execution_count": 96,
     "metadata": {},
     "output_type": "execute_result"
    },
    {
     "data": {
      "image/png": "[encoded data removed]",
      "text/plain": [
       "<Figure size 432x288 with 2 Axes>"
      ]
     },
     "metadata": {
      "needs_background": "light"
     },
     "output_type": "display_data"
    }
   ],
   "source": [
    "# print classification report and confusion matrix as a heatmap for valid set \n",
    "print(classification_report(valid_true, valid_pred, zero_division=0))\n",
    "cm = confusion_matrix(valid_true, valid_pred)\n",
    "# make a heatmap with labels and values and a blue-ish color scheme\n",
    "# Include a row for the supports\n",
    "sns.heatmap(cm, annot=True, fmt='d', xticklabels=labels, yticklabels=labels, cmap='Blues')\n",
    "plt.title('Confusion Matrix')\n",
    "plt.xlabel('Predicted')\n",
    "plt.ylabel('True')\n",
    "plt.show()"
   ]
  },
  {
   "cell_type": "code",
   "execution_count": 97,
   "metadata": {},
   "outputs": [
    {
     "name": "stdout",
     "output_type": "stream",
     "text": [
      "              precision    recall  f1-score   support\n",
      "\n",
      "       false       0.70      0.84      0.77       818\n",
      "        true       0.55      0.36      0.44       449\n",
      "\n",
      "    accuracy                           0.67      1267\n",
      "   macro avg       0.63      0.60      0.60      1267\n",
      "weighted avg       0.65      0.67      0.65      1267\n",
      "\n"
     ]
    },
    {
     "data": {
      "text/plain": [
       "<AxesSubplot:>"
      ]
     },
     "execution_count": 97,
     "metadata": {},
     "output_type": "execute_result"
    },
    {
     "data": {
      "text/plain": [
       "Text(0.5, 1.0, 'Confusion Matrix')"
      ]
     },
     "execution_count": 97,
     "metadata": {},
     "output_type": "execute_result"
    },
    {
     "data": {
      "text/plain": [
       "Text(0.5, 15.0, 'Predicted')"
      ]
     },
     "execution_count": 97,
     "metadata": {},
     "output_type": "execute_result"
    },
    {
     "data": {
      "text/plain": [
       "Text(33.0, 0.5, 'True')"
      ]
     },
     "execution_count": 97,
     "metadata": {},
     "output_type": "execute_result"
    },
    {
     "data": {
      "image/png": "[encoded data removed]",
      "text/plain": [
       "<Figure size 432x288 with 2 Axes>"
      ]
     },
     "metadata": {
      "needs_background": "light"
     },
     "output_type": "display_data"
    }
   ],
   "source": [
    "# print classification report and confusion matrix as a heatmap for test set \n",
    "print(classification_report(test_true, test_pred, zero_division=0))\n",
    "cm = confusion_matrix(test_true, test_pred)\n",
    "# make a heatmap with labels and values and a blue-ish color scheme\n",
    "# Include a row for the supports\n",
    "sns.heatmap(cm, annot=True, fmt='d', xticklabels=labels, yticklabels=labels, cmap='Blues')\n",
    "plt.title('Confusion Matrix')\n",
    "plt.xlabel('Predicted')\n",
    "plt.ylabel('True')\n",
    "plt.show()"
   ]
  },
  {
   "cell_type": "code",
   "execution_count": 69,
   "metadata": {},
   "outputs": [],
   "source": [
    "# print all content in pd column\n",
    "pd.set_option('display.max_colwidth', None)"
   ]
  },
  {
   "cell_type": "code",
   "execution_count": 70,
   "metadata": {},
   "outputs": [
    {
     "data": {
      "text/html": [
       "<div>\n",
       "<style scoped>\n",
       "    .dataframe tbody tr th:only-of-type {\n",
       "        vertical-align: middle;\n",
       "    }\n",
       "\n",
       "    .dataframe tbody tr th {\n",
       "        vertical-align: top;\n",
       "    }\n",
       "\n",
       "    .dataframe thead th {\n",
       "        text-align: right;\n",
       "    }\n",
       "</style>\n",
       "<table border=\"1\" class=\"dataframe\">\n",
       "  <thead>\n",
       "    <tr style=\"text-align: right;\">\n",
       "      <th></th>\n",
       "      <th>11</th>\n",
       "      <th>142</th>\n",
       "      <th>179</th>\n",
       "      <th>236</th>\n",
       "      <th>265</th>\n",
       "      <th>268</th>\n",
       "      <th>354</th>\n",
       "      <th>438</th>\n",
       "      <th>449</th>\n",
       "      <th>667</th>\n",
       "      <th>758</th>\n",
       "      <th>814</th>\n",
       "      <th>850</th>\n",
       "      <th>931</th>\n",
       "      <th>1137</th>\n",
       "    </tr>\n",
       "  </thead>\n",
       "  <tbody>\n",
       "    <tr>\n",
       "      <th>statement</th>\n",
       "      <td>PolitiFact Texas says Congressman Edwards attacks on Bill Flores are false.</td>\n",
       "      <td>The sex-offender registry has been around for a long time, and the research thats out there says that it has no positive impact on the public safety.</td>\n",
       "      <td>John McCain \"has not led on nonproliferation issues when he had the chance in the Senate.\"</td>\n",
       "      <td>As weve seen that federal support for states diminish, youve seen the biggest job losses in the public sector -- teachers, police officers, firefighters losing their jobs.</td>\n",
       "      <td>Obamacare ... will kill jobs across America.</td>\n",
       "      <td>About 106,000 soldiers had a prescription of three weeks or more for pain, depression or anxiety medication.</td>\n",
       "      <td>Four out of 10 homicides are committed by gun in this city.</td>\n",
       "      <td>A lot of the ideas in terms of the (health insurance) exchange, just being able to pool and improve the purchasing power of individuals in the insurance market, that originated from the Heritage Foundation.</td>\n",
       "      <td>You know what (Saddam Hussein) did well? He killed terrorists.</td>\n",
       "      <td>On whether hes had a relationship with Vladimir Putin.</td>\n",
       "      <td>On the Troubled Asset Relief Program (TARP)</td>\n",
       "      <td>You can buy lobster with food stamps.</td>\n",
       "      <td>Says Ted Cruz was just bribed by the Kochs to introduce a bill that would give them and their allies Americas national forests, parks, and other public lands and open them for mining, drilling, fracking and logging.</td>\n",
       "      <td>President Obama and liberal former DNC Chairman Tim Kaines $787 billion stimulus failed to create jobs.</td>\n",
       "      <td>We have 80,000 abortions in Texas every year.</td>\n",
       "    </tr>\n",
       "    <tr>\n",
       "      <th>label</th>\n",
       "      <td>false</td>\n",
       "      <td>true</td>\n",
       "      <td>true</td>\n",
       "      <td>true</td>\n",
       "      <td>false</td>\n",
       "      <td>true</td>\n",
       "      <td>true</td>\n",
       "      <td>true</td>\n",
       "      <td>false</td>\n",
       "      <td>false</td>\n",
       "      <td>true</td>\n",
       "      <td>true</td>\n",
       "      <td>false</td>\n",
       "      <td>false</td>\n",
       "      <td>true</td>\n",
       "    </tr>\n",
       "    <tr>\n",
       "      <th>prediction</th>\n",
       "      <td>abstain</td>\n",
       "      <td>abstain</td>\n",
       "      <td>abstain</td>\n",
       "      <td>abstain</td>\n",
       "      <td>abstain</td>\n",
       "      <td>abstain</td>\n",
       "      <td>abstain</td>\n",
       "      <td>abstain</td>\n",
       "      <td>abstain</td>\n",
       "      <td>abstain</td>\n",
       "      <td>abstain</td>\n",
       "      <td>abstain</td>\n",
       "      <td>abstain</td>\n",
       "      <td>abstain</td>\n",
       "      <td>abstain</td>\n",
       "    </tr>\n",
       "    <tr>\n",
       "      <th>explanation</th>\n",
       "      <td>False</td>\n",
       "      <td>True</td>\n",
       "      <td>False</td>\n",
       "      <td>True</td>\n",
       "      <td>False</td>\n",
       "      <td>True</td>\n",
       "      <td>False</td>\n",
       "      <td>True</td>\n",
       "      <td>False</td>\n",
       "      <td>False</td>\n",
       "      <td>False</td>\n",
       "      <td>True</td>\n",
       "      <td>True</td>\n",
       "      <td>False</td>\n",
       "      <td>False</td>\n",
       "    </tr>\n",
       "  </tbody>\n",
       "</table>\n",
       "</div>"
      ],
      "text/plain": [
       "                                                                                    11    \\\n",
       "statement    PolitiFact Texas says Congressman Edwards attacks on Bill Flores are false.   \n",
       "label                                                                              false   \n",
       "prediction                                                                       abstain   \n",
       "explanation                                                                        False   \n",
       "\n",
       "                                                                                                                                                              142   \\\n",
       "statement    The sex-offender registry has been around for a long time, and the research thats out there says that it has no positive impact on the public safety.   \n",
       "label                                                                                                                                                         true   \n",
       "prediction                                                                                                                                                 abstain   \n",
       "explanation                                                                                                                                                   True   \n",
       "\n",
       "                                                                                                   179   \\\n",
       "statement    John McCain \"has not led on nonproliferation issues when he had the chance in the Senate.\"   \n",
       "label                                                                                              true   \n",
       "prediction                                                                                      abstain   \n",
       "explanation                                                                                       False   \n",
       "\n",
       "                                                                                                                                                                                    236   \\\n",
       "statement    As weve seen that federal support for states diminish, youve seen the biggest job losses in the public sector -- teachers, police officers, firefighters losing their jobs.   \n",
       "label                                                                                                                                                                               true   \n",
       "prediction                                                                                                                                                                       abstain   \n",
       "explanation                                                                                                                                                                         True   \n",
       "\n",
       "                                                     265   \\\n",
       "statement    Obamacare ... will kill jobs across America.   \n",
       "label                                               false   \n",
       "prediction                                        abstain   \n",
       "explanation                                         False   \n",
       "\n",
       "                                                                                                                     268   \\\n",
       "statement    About 106,000 soldiers had a prescription of three weeks or more for pain, depression or anxiety medication.   \n",
       "label                                                                                                                true   \n",
       "prediction                                                                                                        abstain   \n",
       "explanation                                                                                                          True   \n",
       "\n",
       "                                                                    354   \\\n",
       "statement    Four out of 10 homicides are committed by gun in this city.   \n",
       "label                                                               true   \n",
       "prediction                                                       abstain   \n",
       "explanation                                                        False   \n",
       "\n",
       "                                                                                                                                                                                                                       438   \\\n",
       "statement    A lot of the ideas in terms of the (health insurance) exchange, just being able to pool and improve the purchasing power of individuals in the insurance market, that originated from the Heritage Foundation.   \n",
       "label                                                                                                                                                                                                                  true   \n",
       "prediction                                                                                                                                                                                                          abstain   \n",
       "explanation                                                                                                                                                                                                            True   \n",
       "\n",
       "                                                                       449   \\\n",
       "statement    You know what (Saddam Hussein) did well? He killed terrorists.   \n",
       "label                                                                 false   \n",
       "prediction                                                          abstain   \n",
       "explanation                                                           False   \n",
       "\n",
       "                                                               667   \\\n",
       "statement    On whether hes had a relationship with Vladimir Putin.   \n",
       "label                                                         false   \n",
       "prediction                                                  abstain   \n",
       "explanation                                                   False   \n",
       "\n",
       "                                                    758   \\\n",
       "statement    On the Troubled Asset Relief Program (TARP)   \n",
       "label                                               true   \n",
       "prediction                                       abstain   \n",
       "explanation                                        False   \n",
       "\n",
       "                                              814   \\\n",
       "statement    You can buy lobster with food stamps.   \n",
       "label                                         true   \n",
       "prediction                                 abstain   \n",
       "explanation                                   True   \n",
       "\n",
       "                                                                                                                                                                                                                                850   \\\n",
       "statement    Says Ted Cruz was just bribed by the Kochs to introduce a bill that would give them and their allies Americas national forests, parks, and other public lands and open them for mining, drilling, fracking and logging.   \n",
       "label                                                                                                                                                                                                                          false   \n",
       "prediction                                                                                                                                                                                                                   abstain   \n",
       "explanation                                                                                                                                                                                                                     True   \n",
       "\n",
       "                                                                                                                931   \\\n",
       "statement    President Obama and liberal former DNC Chairman Tim Kaines $787 billion stimulus failed to create jobs.   \n",
       "label                                                                                                          false   \n",
       "prediction                                                                                                   abstain   \n",
       "explanation                                                                                                    False   \n",
       "\n",
       "                                                      1137  \n",
       "statement    We have 80,000 abortions in Texas every year.  \n",
       "label                                                 true  \n",
       "prediction                                         abstain  \n",
       "explanation                                          False  "
      ]
     },
     "execution_count": 70,
     "metadata": {},
     "output_type": "execute_result"
    }
   ],
   "source": [
    "test_results.loc[test_results.prediction == 'abstain',['statement','label','prediction','explanation']].T"
   ]
  },
  {
   "cell_type": "code",
   "execution_count": 71,
   "metadata": {},
   "outputs": [
    {
     "name": "stdout",
     "output_type": "stream",
     "text": [
      "              precision    recall  f1-score   support\n",
      "\n",
      "       false       0.67      1.00      0.80       864\n",
      "        true       0.00      0.00      0.00       420\n",
      "\n",
      "    accuracy                           0.67      1284\n",
      "   macro avg       0.34      0.50      0.40      1284\n",
      "weighted avg       0.45      0.67      0.54      1284\n",
      "\n"
     ]
    },
    {
     "data": {
      "text/plain": [
       "<AxesSubplot:>"
      ]
     },
     "execution_count": 71,
     "metadata": {},
     "output_type": "execute_result"
    },
    {
     "data": {
      "text/plain": [
       "Text(0.5, 1.0, 'Confusion Matrix')"
      ]
     },
     "execution_count": 71,
     "metadata": {},
     "output_type": "execute_result"
    },
    {
     "data": {
      "text/plain": [
       "Text(0.5, 15.0, 'Predicted')"
      ]
     },
     "execution_count": 71,
     "metadata": {},
     "output_type": "execute_result"
    },
    {
     "data": {
      "text/plain": [
       "Text(33.0, 0.5, 'True')"
      ]
     },
     "execution_count": 71,
     "metadata": {},
     "output_type": "execute_result"
    },
    {
     "data": {
      "image/png": "[encoded data removed]",
      "text/plain": [
       "<Figure size 432x288 with 2 Axes>"
      ]
     },
     "metadata": {
      "needs_background": "light"
     },
     "output_type": "display_data"
    }
   ],
   "source": [
    "# Get the most used label in valid set and use it as a baseline. \n",
    "majority_label = np.unique(valid_true, return_counts=True)[0][np.argmax(np.unique(valid_true, return_counts=True)[1])]\n",
    "valid_baseline = [majority_label for i in range(len(valid_true))]\n",
    "\n",
    "# Get the most used label in test set and use it as a baseline.\n",
    "majority_label = np.unique(test_true, return_counts=True)[0][np.argmax(np.unique(test_true, return_counts=True)[1])]\n",
    "test_baseline = [majority_label for i in range(len(test_true))]\n",
    "\n",
    "# print classification report and confusion matrix as a heatmap for valid set\n",
    "print(classification_report(valid_true, valid_baseline, zero_division=0))\n",
    "cm = confusion_matrix(valid_true, valid_baseline)\n",
    "# make a heatmap with labels and values and a blue-ish color scheme\n",
    "# Include a row for the supports\n",
    "sns.heatmap(cm, annot=True, fmt='d', xticklabels=labels, yticklabels=labels, cmap='Blues')\n",
    "plt.title('Confusion Matrix')\n",
    "plt.xlabel('Predicted')\n",
    "plt.ylabel('True')\n",
    "plt.show()\n",
    "\n"
   ]
  },
  {
   "cell_type": "code",
   "execution_count": 72,
   "metadata": {},
   "outputs": [
    {
     "name": "stdout",
     "output_type": "stream",
     "text": [
      "              precision    recall  f1-score   support\n",
      "\n",
      "       false       0.65      1.00      0.78       818\n",
      "        true       0.00      0.00      0.00       449\n",
      "\n",
      "    accuracy                           0.65      1267\n",
      "   macro avg       0.32      0.50      0.39      1267\n",
      "weighted avg       0.42      0.65      0.51      1267\n",
      "\n"
     ]
    },
    {
     "data": {
      "text/plain": [
       "<AxesSubplot:>"
      ]
     },
     "execution_count": 72,
     "metadata": {},
     "output_type": "execute_result"
    },
    {
     "data": {
      "text/plain": [
       "Text(0.5, 1.0, 'Confusion Matrix')"
      ]
     },
     "execution_count": 72,
     "metadata": {},
     "output_type": "execute_result"
    },
    {
     "data": {
      "text/plain": [
       "Text(0.5, 15.0, 'Predicted')"
      ]
     },
     "execution_count": 72,
     "metadata": {},
     "output_type": "execute_result"
    },
    {
     "data": {
      "text/plain": [
       "Text(33.0, 0.5, 'True')"
      ]
     },
     "execution_count": 72,
     "metadata": {},
     "output_type": "execute_result"
    },
    {
     "data": {
      "image/png": "[encoded data removed]",
      "text/plain": [
       "<Figure size 432x288 with 2 Axes>"
      ]
     },
     "metadata": {
      "needs_background": "light"
     },
     "output_type": "display_data"
    }
   ],
   "source": [
    "# print classification report and confusion matrix as a heatmap for test set\n",
    "print(classification_report(test_true, test_baseline, zero_division=0))\n",
    "cm = confusion_matrix(test_true, test_baseline)\n",
    "# make a heatmap with labels and values and a blue-ish color scheme\n",
    "# Include a row for the supports\n",
    "sns.heatmap(cm, annot=True, fmt='d', xticklabels=labels, yticklabels=labels, cmap='Blues')\n",
    "plt.title('Confusion Matrix')\n",
    "plt.xlabel('Predicted')\n",
    "plt.ylabel('True')\n",
    "plt.show()"
   ]
  },
  {
   "attachments": {},
   "cell_type": "markdown",
   "metadata": {},
   "source": [
    "# Zero-shot classification with sentence-transformer NLI models"
   ]
  },
  {
   "cell_type": "code",
   "execution_count": 73,
   "metadata": {},
   "outputs": [],
   "source": [
    "from zero_shot_models.nli_sentencetransformer import get_nli_transformer_prediction"
   ]
  },
  {
   "cell_type": "code",
   "execution_count": 74,
   "metadata": {},
   "outputs": [],
   "source": [
    "labels = ['true', 'false']"
   ]
  },
  {
   "cell_type": "code",
   "execution_count": 76,
   "metadata": {},
   "outputs": [],
   "source": [
    "valid_context = valid.copy()\n",
    "test_context = test.copy()\n",
    "\n",
    "valid_context[\"text_context\"] = valid_context[['statement', 'speaker', 'subject', 'speaker_job', 'context']].apply(lambda x: f'\"{x[0]}\", says the {x[3]} {x[1]} about the subject {x[2]} in the {x[4]}', axis=1)\n",
    "test_context[\"text_context\"] = test_context[['statement', 'speaker', 'subject', 'speaker_job', 'context']].apply(lambda x: f'\"{x[0]}\", says the {x[3]} {x[1]} about the subject {x[2]} in the {x[4]}', axis=1)"
   ]
  },
  {
   "cell_type": "code",
   "execution_count": 77,
   "metadata": {},
   "outputs": [
    {
     "name": "stderr",
     "output_type": "stream",
     "text": [
      "100%|██████████| 1284/1284 [03:29<00:00,  6.12it/s]\n"
     ]
    }
   ],
   "source": [
    "valid_nli_results = get_nli_transformer_prediction(valid_context.copy(), \"text_context\", labels)\n",
    "valid_nli_results.to_csv('valid_nli_results_binary_context.csv', index=False)\n"
   ]
  },
  {
   "cell_type": "code",
   "execution_count": 78,
   "metadata": {},
   "outputs": [
    {
     "name": "stderr",
     "output_type": "stream",
     "text": [
      "100%|██████████| 1267/1267 [03:37<00:00,  5.82it/s]\n"
     ]
    }
   ],
   "source": [
    "\n",
    "test_nli_results = get_nli_transformer_prediction(test_context.copy(), \"text_context\", labels)\n",
    "test_nli_results.to_csv('test_nli_results_binary_context.csv', index=False)\n"
   ]
  },
  {
   "cell_type": "code",
   "execution_count": 79,
   "metadata": {},
   "outputs": [
    {
     "name": "stdout",
     "output_type": "stream",
     "text": [
      "              precision    recall  f1-score   support\n",
      "\n",
      "       false       0.68      0.90      0.77       864\n",
      "        true       0.38      0.13      0.20       420\n",
      "\n",
      "    accuracy                           0.65      1284\n",
      "   macro avg       0.53      0.51      0.48      1284\n",
      "weighted avg       0.58      0.65      0.58      1284\n",
      "\n"
     ]
    },
    {
     "data": {
      "text/plain": [
       "<AxesSubplot:>"
      ]
     },
     "execution_count": 79,
     "metadata": {},
     "output_type": "execute_result"
    },
    {
     "data": {
      "text/plain": [
       "Text(0.5, 1.0, 'Confusion Matrix')"
      ]
     },
     "execution_count": 79,
     "metadata": {},
     "output_type": "execute_result"
    },
    {
     "data": {
      "text/plain": [
       "Text(0.5, 15.0, 'Predicted')"
      ]
     },
     "execution_count": 79,
     "metadata": {},
     "output_type": "execute_result"
    },
    {
     "data": {
      "text/plain": [
       "Text(33.0, 0.5, 'True')"
      ]
     },
     "execution_count": 79,
     "metadata": {},
     "output_type": "execute_result"
    },
    {
     "data": {
      "image/png": "[encoded data removed]",
      "text/plain": [
       "<Figure size 432x288 with 2 Axes>"
      ]
     },
     "metadata": {
      "needs_background": "light"
     },
     "output_type": "display_data"
    }
   ],
   "source": [
    "# print classification report and confusion matrix as a heatmap for valid set\n",
    "print(classification_report(valid_nli_results.label, valid_nli_results.prediction, zero_division=0))\n",
    "cm = confusion_matrix(valid_nli_results.label, valid_nli_results.prediction)\n",
    "# make a heatmap with labels and values and a blue-ish color scheme\n",
    "# Include a row for the supports\n",
    "sns.heatmap(cm, annot=True, fmt='d', xticklabels=labels, yticklabels=labels, cmap='Blues')\n",
    "plt.title('Confusion Matrix')\n",
    "plt.xlabel('Predicted')\n",
    "plt.ylabel('True')\n",
    "plt.show()"
   ]
  },
  {
   "cell_type": "code",
   "execution_count": 80,
   "metadata": {},
   "outputs": [
    {
     "name": "stdout",
     "output_type": "stream",
     "text": [
      "              precision    recall  f1-score   support\n",
      "\n",
      "       false       0.65      0.90      0.76       818\n",
      "        true       0.42      0.12      0.19       449\n",
      "\n",
      "    accuracy                           0.63      1267\n",
      "   macro avg       0.54      0.51      0.48      1267\n",
      "weighted avg       0.57      0.63      0.56      1267\n",
      "\n"
     ]
    },
    {
     "data": {
      "text/plain": [
       "<AxesSubplot:>"
      ]
     },
     "execution_count": 80,
     "metadata": {},
     "output_type": "execute_result"
    },
    {
     "data": {
      "text/plain": [
       "Text(0.5, 1.0, 'Confusion Matrix')"
      ]
     },
     "execution_count": 80,
     "metadata": {},
     "output_type": "execute_result"
    },
    {
     "data": {
      "text/plain": [
       "Text(0.5, 15.0, 'Predicted')"
      ]
     },
     "execution_count": 80,
     "metadata": {},
     "output_type": "execute_result"
    },
    {
     "data": {
      "text/plain": [
       "Text(33.0, 0.5, 'True')"
      ]
     },
     "execution_count": 80,
     "metadata": {},
     "output_type": "execute_result"
    },
    {
     "data": {
      "image/png": "[encoded data removed]",
      "text/plain": [
       "<Figure size 432x288 with 2 Axes>"
      ]
     },
     "metadata": {
      "needs_background": "light"
     },
     "output_type": "display_data"
    }
   ],
   "source": [
    "# print classification report and confusion matrix as a heatmap for test set\n",
    "print(classification_report(test_nli_results.label, test_nli_results.prediction, zero_division=0))\n",
    "cm = confusion_matrix(test_nli_results.label, test_nli_results.prediction)\n",
    "# make a heatmap with labels and values and a blue-ish color scheme\n",
    "# Include a row for the supports\n",
    "sns.heatmap(cm, annot=True, fmt='d', xticklabels=labels, yticklabels=labels, cmap='Blues')\n",
    "plt.title('Confusion Matrix')\n",
    "plt.xlabel('Predicted')\n",
    "plt.ylabel('True')\n",
    "plt.show()"
   ]
  },
  {
   "cell_type": "markdown",
   "metadata": {},
   "source": [
    "# Zero-shot classification with Sentence transformer"
   ]
  },
  {
   "cell_type": "code",
   "execution_count": 81,
   "metadata": {},
   "outputs": [],
   "source": [
    "from zero_shot_models.transfomer import get_transformer_prediction"
   ]
  },
  {
   "cell_type": "code",
   "execution_count": 82,
   "metadata": {},
   "outputs": [
    {
     "name": "stderr",
     "output_type": "stream",
     "text": [
      "100%|██████████| 1284/1284 [04:27<00:00,  4.80it/s]\n"
     ]
    }
   ],
   "source": [
    "model_name = 'cross-encoder/nli-distilroberta-base'\n",
    "valid_sentransformer_results = get_transformer_prediction(valid_context.copy(), \"text_context\", labels, model_name)\n",
    "valid_sentransformer_results.to_csv('valid_sentransformer_results_binary_context.csv', index=False)\n"
   ]
  },
  {
   "cell_type": "code",
   "execution_count": 83,
   "metadata": {},
   "outputs": [
    {
     "name": "stderr",
     "output_type": "stream",
     "text": [
      "100%|██████████| 1267/1267 [04:17<00:00,  4.91it/s]\n"
     ]
    }
   ],
   "source": [
    "test_sentransformer_results = get_transformer_prediction(test_context.copy(), \"text_context\", labels, model_name)\n",
    "test_sentransformer_results.to_csv('test_sentransformer_results_binary_context.csv', index=False)\n"
   ]
  },
  {
   "attachments": {},
   "cell_type": "markdown",
   "metadata": {},
   "source": [
    "# Zero-shot classification with transformer models"
   ]
  },
  {
   "cell_type": "code",
   "execution_count": 84,
   "metadata": {},
   "outputs": [],
   "source": [
    "from zero_shot_models.transfomer import get_transformer_prediction"
   ]
  },
  {
   "cell_type": "code",
   "execution_count": 85,
   "metadata": {},
   "outputs": [
    {
     "name": "stderr",
     "output_type": "stream",
     "text": [
      "100%|██████████| 1284/1284 [38:11<00:00,  1.78s/it]\n"
     ]
    }
   ],
   "source": [
    "valid_transformer_results = get_transformer_prediction(valid_context.copy(), \"text_context\", labels)\n",
    "valid_transformer_results.to_csv('valid_transformer_results_binary_context.csv', index=False)"
   ]
  },
  {
   "cell_type": "code",
   "execution_count": null,
   "metadata": {},
   "outputs": [],
   "source": []
  },
  {
   "cell_type": "code",
   "execution_count": 86,
   "metadata": {},
   "outputs": [
    {
     "name": "stderr",
     "output_type": "stream",
     "text": [
      "100%|██████████| 1267/1267 [33:44<00:00,  1.60s/it] \n"
     ]
    }
   ],
   "source": [
    "test_transformer_results = get_transformer_prediction(test_context.copy(), \"text_context\", labels)\n",
    "test_transformer_results.to_csv('test_transformer_results_binary_context.csv', index=False)"
   ]
  },
  {
   "cell_type": "code",
   "execution_count": null,
   "metadata": {},
   "outputs": [],
   "source": []
  },
  {
   "cell_type": "code",
   "execution_count": null,
   "metadata": {},
   "outputs": [],
   "source": []
  }
 ],
 "metadata": {
  "kernelspec": {
   "display_name": "base",
   "language": "python",
   "name": "python3"
  },
  "language_info": {
   "codemirror_mode": {
    "name": "ipython",
    "version": 3
   },
   "file_extension": ".py",
   "mimetype": "text/x-python",
   "name": "python",
   "nbconvert_exporter": "python",
   "pygments_lexer": "ipython3",
   "version": "3.9.7"
  },
  "orig_nbformat": 4,
  "vscode": {
   "interpreter": {
    "hash": "3582eee5de9267f828bda4ee5a193849b84c162ef47b9da069e91d3e3fec8841"
   }
  }
 },
 "nbformat": 4,
 "nbformat_minor": 2
}
